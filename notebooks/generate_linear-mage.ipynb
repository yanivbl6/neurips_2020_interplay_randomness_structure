{
 "cells": [
  {
   "cell_type": "code",
   "execution_count": 1,
   "metadata": {},
   "outputs": [],
   "source": [
    "%load_ext autoreload\n",
    "%autoreload 2\n",
    "\n",
    "from imp import reload\n",
    "import os, time\n",
    "import numpy as np\n",
    "import pickle\n",
    "from helpers import comp_evs\n",
    "import matplotlib.pyplot as plt\n",
    "\n",
    "# RNN model and task\n",
    "import torch\n",
    "use_cuda = torch.cuda.is_available()\n",
    "from model import RNN, train, run_net\n",
    "from task_generators import input_driven_fp\n",
    "task_generator = input_driven_fp\n",
    "\n",
    "# Data directory for saving\n",
    "from data_dir import data_dir\n",
    "\n",
    "\n",
    "\n",
    "# Name\n",
    "file_name_prefix = \"linear\" \n",
    "torch.cuda.set_device(\"cuda:3\")"
   ]
  },
  {
   "cell_type": "code",
   "execution_count": 2,
   "metadata": {},
   "outputs": [],
   "source": [
    "# Optimizer\n",
    "optimizer = 'sgd'\n",
    "\n",
    "# Nonlinearity\n",
    "nonlinearity = 'id'\n",
    "##nonlinearity = 'tanh'\n",
    "\n",
    "# Integration time step\n",
    "dt = 0.5\n",
    "# Training parameters\n",
    "batch_size = 1\n",
    "batch_size_test = 1\n",
    "# Neural noise\n",
    "noise_std = 0.0\n",
    "# Whether IO vectors are orthogonalized\n",
    "orthogonalize_wio = False\n",
    "# Same random connectivity for each g?\n",
    "same_connectivity = False\n",
    "\n",
    "# Number of epochs\n",
    "n_epochs = 200\n",
    "# Record the weights only every 'rec_step'\n",
    "rec_step = 1\n",
    "\n",
    "# Network parameters\n",
    "dim_in = 1\n",
    "dim_out = dim_in"
   ]
  },
  {
   "cell_type": "code",
   "execution_count": 3,
   "metadata": {},
   "outputs": [],
   "source": [
    "scenario = ['fig_3_4', 'supp_fig_diverge', 'test'][0]\n",
    "\n",
    "if scenario == 'fig_3_4':\n",
    "    # Fig 3,4\n",
    "    dim_rec = 1024\n",
    "\n",
    "    # Train for different randomness\n",
    "    dg = 0.1\n",
    "    gs = np.arange(0, 1, dg)\n",
    "\n",
    "    # Number of samples\n",
    "    n_samples = 5\n",
    "\n",
    "    # Task\n",
    "    # Target amplitudes\n",
    "    target_amps = np.array([0.5, 1.0, 2.0])\n",
    "    # Trail time\n",
    "    t_max = 101\n",
    "    # Learning rates for g == 0\n",
    "    lr0s = np.array([0.015, 0.009, 0.003])\n",
    "\n",
    "    compute_evs = False\n",
    "\n",
    "elif scenario == 'supp_fig_diverge':\n",
    "    # Diverging learning for supplementary\n",
    "    dim_rec = 256\n",
    "\n",
    "    # Initial connectivity strength\n",
    "    gs = np.array([0.6, 0.8])\n",
    "\n",
    "    # Number of samples\n",
    "    n_samples = 5\n",
    "\n",
    "    # Target amplitudes\n",
    "    # target_amps = np.array([1., 2., 3., 4.])\n",
    "    target_amps = np.array([2., 4.])\n",
    "    # Trail time\n",
    "    t_max = 201\n",
    "    # Learning rates for g == 0\n",
    "    # lr0s = np.array([0.009, 0.003, 0.002, 0.001])\n",
    "    lr0s = np.array([0.002, 0.001])\n",
    "\n",
    "    compute_evs = True\n",
    "    file_name_prefix += \"_diverge\"\n",
    "\n",
    "elif scenario == 'test':\n",
    "    # Quick testing\n",
    "    n_samples = 1\n",
    "    dim_rec = 256\n",
    "    n_epochs = 20\n",
    "    t_max = 21\n",
    "    gs = np.array([0.0, 0.6])\n",
    "    target_amps = np.array([0.5, 2.])\n",
    "    lr0s = np.array([0.01, 0.005])\n",
    "    file_name_prefix = \"test_\" + file_name_prefix\n",
    "    compute_evs = False"
   ]
  },
  {
   "cell_type": "code",
   "execution_count": null,
   "metadata": {},
   "outputs": [],
   "source": []
  },
  {
   "cell_type": "code",
   "execution_count": 4,
   "metadata": {},
   "outputs": [
    {
     "name": "stdout",
     "output_type": "stream",
     "text": [
      "file_name:\n",
      " linear_zhats_gs_N_1024_tmax_101\n",
      "data_file:\n",
      " ../data/linear_zhats_gs_N_1024_tmax_101_fwdmodeV1.pkl\n"
     ]
    }
   ],
   "source": [
    "# Network dimensions\n",
    "dims = [dim_in, dim_rec, dim_out]\n",
    "\n",
    "# All task parameters\n",
    "task_params_all = [{\"t_max\": t_max, \n",
    "                    \"fixation_duration\": 1,\n",
    "                    \"decision_duration\": 1,\n",
    "                    \"input_amp\": 1,\n",
    "                    \"target_amp\": target_amp,}\n",
    "                   for target_amp in target_amps]\n",
    "\n",
    "# Learning rates\n",
    "lrs_all = lr0s[:, None] * (1 - gs[None, :]**2)**2\n",
    "\n",
    "# Epochs\n",
    "n_rec_epochs = n_epochs // rec_step\n",
    "epochs = np.arange(n_epochs)\n",
    "rec_epochs = np.arange(0, n_epochs, rec_step)\n",
    "# Learning times\n",
    "tls_all = lrs_all[:, :, None] * epochs[None, None, :]\n",
    "\n",
    "# Results arrays\n",
    "n_gs = len(gs)\n",
    "n_tas = len(target_amps)\n",
    "# Weights\n",
    "wi_init_all = np.zeros((n_samples, n_tas, n_gs, dim_in, dim_rec))\n",
    "wo_init_all = np.zeros((n_samples, n_tas, n_gs, dim_rec, dim_out))\n",
    "wrec_init_all = np.zeros((n_samples, n_tas, n_gs, dim_rec, dim_rec))\n",
    "dwrec_last_all = np.zeros((n_samples, n_tas, n_gs, dim_rec, dim_rec))\n",
    "# Results\n",
    "losses_all = np.zeros((n_samples, n_tas, n_gs, n_epochs))\n",
    "grad_norms_all = np.zeros((n_samples, n_tas, n_gs, n_epochs))\n",
    "ev_w_all = np.zeros((n_samples, n_tas, n_gs, n_epochs, dim_rec), dtype=complex)\n",
    "sv_dw_all = np.zeros((n_samples, n_tas, n_gs, n_rec_epochs, dim_rec))\n",
    "loss_shuff_all = np.zeros((n_samples, n_tas, n_gs))\n",
    "\n",
    "# File name\n",
    "file_name = file_name_prefix\n",
    "if n_tas == 1:\n",
    "    target_amp = target_amps[0]\n",
    "    file_name += \"_zhat_%.1f\"%target_amp\n",
    "else:\n",
    "    file_name += \"_zhats\"\n",
    "if n_gs == 1:\n",
    "    g = gs[0]\n",
    "    file_name += \"_g_%.1f\" % g\n",
    "else:\n",
    "    file_name += \"_gs\"\n",
    "if optimizer != 'sgd':\n",
    "    file_name += '_' + optimizer\n",
    "if same_connectivity:\n",
    "    file_name += \"_same_conn\"\n",
    "if orthogonalize_wio:\n",
    "    file_name += \"_ortho_wio\"\n",
    "if noise_std != 0:\n",
    "    file_name += \"_noise_%.1f\"%noise_std\n",
    "# Network parameters\n",
    "file_name += \"_N_%d\" % dim_rec\n",
    "file_name += \"_tmax_%d\" % t_max\n",
    "file_name = \"\".join(file_name.split('.'))\n",
    "print(\"file_name:\\n\", file_name)\n",
    "\n",
    "# Data file for saving\n",
    "file_name  = file_name + \"_fwdmodeV1\"\n",
    "data_file_name = file_name + \".pkl\"\n",
    "data_file = os.path.join(data_dir, data_file_name)\n",
    "print(\"data_file:\\n\", data_file)\n"
   ]
  },
  {
   "cell_type": "raw",
   "metadata": {},
   "source": [
    "%%time\n",
    "\n",
    "time_t = 0\n",
    "time_ev = 0\n",
    "time_sv = 0\n",
    "time_ls = 0\n",
    "all_results = {}\n",
    "for k in range(1):    \n",
    "    for j in range(n_tas):\n",
    "        task_params = task_params_all[j]\n",
    "        task = task_generator(dims, dt, **task_params)\n",
    "        i = n_gs//2\n",
    "        g = gs[i]\n",
    "        lr = lrs_all[j, i]/100\n",
    "\n",
    "        if (not same_connectivity) or (i == 0 and j == 0):\n",
    "            # Initial connectivity\n",
    "            # Random component\n",
    "            wrec_0 = np.random.normal(0, 1 / np.sqrt(dim_rec), (dim_rec, dim_rec))\n",
    "            # Input and readout\n",
    "            wio = np.random.normal(0, 1, (dim_rec, dim_in + dim_out))\n",
    "            if orthogonalize_wio:\n",
    "                wio = np.linalg.qr(wio)[0]\n",
    "            else:\n",
    "                wio /= np.linalg.norm(wio, axis=0)[None, :]\n",
    "            # Make sure that the vecotrs are still normalized\n",
    "            assert np.allclose(np.linalg.norm(wio, axis=0), 1), \"Normalization gone wrong!\"\n",
    "            # Change normalization to the proper one\n",
    "            wio *= np.sqrt(dim_rec)\n",
    "            wi_init = wio[:, :dim_in].T.copy()\n",
    "            wo_init = wio[:, dim_in:].copy() / dim_rec\n",
    "            del wio\n",
    "\n",
    "        wrec_init = g * wrec_0\n",
    "\n",
    "        # Network\n",
    "        net = RNN(dims, noise_std, dt, nonlinearity, g=g, wi_init=wi_init, wo_init=wo_init, wrec_init=wrec_init)\n",
    "        \n",
    "        # Train\n",
    "        time0_t = time.time()\n",
    "        res = train(net, task, n_epochs, batch_size, lr, cuda=use_cuda, rec_step=rec_step, optimizer=optimizer, verbose=False, fwd_mode = True, n_directions = 1)\n",
    "        losses, grad_norms, weights_init, weights_last, weights_train, _, _ = res\n",
    "        # Weights\n",
    "        all_results[j] = res\n",
    "        plt.semilogy(losses)\n",
    "        plt.show()\n",
    "        \n",
    "print(\"Done. Learning took %.1f sec, EV/SV evaluation took %.1f / %.1f sec\" % (time_t, time_ev, time_sv))\n",
    "print(\"Computing loss after shuffle took %.1f sec\" % (time_ls))\n",
    "\n",
    "# Readout\n",
    "target_amp = task_params[\"target_amp\"]\n",
    "zs_all = target_amps[None, :, None, None] - np.sqrt(2 * losses_all)\n"
   ]
  },
  {
   "cell_type": "code",
   "execution_count": 12,
   "metadata": {},
   "outputs": [],
   "source": [
    "def run(mage= True, fwd_mode = True, n_directions_list = 1, lr_factors = 1, task = 0, warmup = -1, save_V_steps_list = [-1], step_weight = None):\n",
    "    time_t = 0\n",
    "    time_ev = 0\n",
    "    time_sv = 0\n",
    "    time_ls = 0\n",
    "    all_results = {}\n",
    "    j = task\n",
    "    task_params = task_params_all[j]\n",
    "    task = task_generator(dims, dt, **task_params)\n",
    "    i = n_gs//2\n",
    "    g = gs[i]\n",
    "    \n",
    "    \n",
    "    if not isinstance(lr_factors, list):\n",
    "        lr_factors = [lr_factors]\n",
    "        \n",
    "    \n",
    "    if not isinstance(n_directions_list, list):\n",
    "        n_directions_list = [n_directions_list]\n",
    "        \n",
    "    for save_V_steps in save_V_steps_list:\n",
    "        for n_directions in n_directions_list:\n",
    "            for lr_factor in lr_factors:\n",
    "                try:\n",
    "                    lr = lrs_all[j, i]*lr_factor\n",
    "                    if (not same_connectivity) or (i == 0 and j == 0):\n",
    "                        # Initial connectivity\n",
    "                        # Random component\n",
    "                        wrec_0 = np.random.normal(0, 1 / np.sqrt(dim_rec), (dim_rec, dim_rec))\n",
    "                        # Input and readout\n",
    "                        wio = np.random.normal(0, 1, (dim_rec, dim_in + dim_out))\n",
    "                        if orthogonalize_wio:\n",
    "                            wio = np.linalg.qr(wio)[0]\n",
    "                        else:\n",
    "                            wio /= np.linalg.norm(wio, axis=0)[None, :]\n",
    "                        # Make sure that the vecotrs are still normalized\n",
    "                        assert np.allclose(np.linalg.norm(wio, axis=0), 1), \"Normalization gone wrong!\"\n",
    "                        # Change normalization to the proper one\n",
    "                        wio *= np.sqrt(dim_rec)\n",
    "                        wi_init = wio[:, :dim_in].T.copy()\n",
    "                        wo_init = wio[:, dim_in:].copy() / dim_rec\n",
    "                        del wio\n",
    "\n",
    "                    wrec_init = g * wrec_0\n",
    "\n",
    "                    # Network\n",
    "                    net = RNN(dims, noise_std, dt, nonlinearity, g=g, wi_init=wi_init, wo_init=wo_init, wrec_init=wrec_init,\n",
    "                              train_wi = True, train_wo = True, train_brec = True, train_h0 = True)\n",
    "                    # Train\n",
    "                    time0_t = time.time()\n",
    "\n",
    "                    res = train(net, task, n_epochs, batch_size, lr, cuda=use_cuda, rec_step=rec_step, optimizer=optimizer, \n",
    "                                verbose=False, fwd_mode = fwd_mode, mage = mage, n_directions = n_directions,warmup = warmup, save_V_steps = save_V_steps, step_weight = step_weight)\n",
    "                    losses, grad_norms, weights_init, weights_last, weights_train, _, _ = res\n",
    "                    # Weights\n",
    "                    all_results[(save_V_steps,n_directions,lr_factor)] = res\n",
    "                    plt.semilogy(losses, label = f\"lr = {lr_factor}, directions = {n_directions}, SaveV = {save_V_steps}\")\n",
    "\n",
    "                    if mage:\n",
    "                        print(f\"fwd mage, n_directions= {n_directions}, lr = {lr}, SaveV = {save_V_steps}\")\n",
    "                    elif fwd_mode:\n",
    "                        print(f\"fwd mode, n_directions= {n_directions}, lr = {lr}, SaveV = {save_V_steps}\")\n",
    "                    else:\n",
    "                        print(f\"backprop, lr = {lr}\")\n",
    "                except:\n",
    "                    pass\n",
    "    plt.legend()\n",
    "    plt.show()\n",
    "    return all_results"
   ]
  },
  {
   "cell_type": "code",
   "execution_count": 9,
   "metadata": {},
   "outputs": [],
   "source": [
    "def run(mage= True, fwd_mode = True, n_directions_list = 1, lr_factors = 1, task = 0, warmup = -1, save_V_steps_list = [-1], step_weight = None):\n",
    "    time_t = 0\n",
    "    time_ev = 0\n",
    "    time_sv = 0\n",
    "    time_ls = 0\n",
    "    all_results = {}\n",
    "    j = task\n",
    "    task_params = task_params_all[j]\n",
    "    task = task_generator(dims, dt, **task_params)\n",
    "    i = n_gs//2\n",
    "    g = gs[i]\n",
    "    \n",
    "    \n",
    "    if not isinstance(lr_factors, list):\n",
    "        lr_factors = [lr_factors]\n",
    "        \n",
    "    \n",
    "    if not isinstance(n_directions_list, list):\n",
    "        n_directions_list = [n_directions_list]\n",
    "        \n",
    "    for save_V_steps in save_V_steps_list:\n",
    "        for n_directions in n_directions_list:\n",
    "            for lr_factor in lr_factors:\n",
    "                if True:\n",
    "                    lr = lrs_all[j, i]*lr_factor\n",
    "                    if (not same_connectivity) or (i == 0 and j == 0):\n",
    "                        # Initial connectivity\n",
    "                        # Random component\n",
    "                        wrec_0 = np.random.normal(0, 1 / np.sqrt(dim_rec), (dim_rec, dim_rec))\n",
    "                        # Input and readout\n",
    "                        wio = np.random.normal(0, 1, (dim_rec, dim_in + dim_out))\n",
    "                        if orthogonalize_wio:\n",
    "                            wio = np.linalg.qr(wio)[0]\n",
    "                        else:\n",
    "                            wio /= np.linalg.norm(wio, axis=0)[None, :]\n",
    "                        # Make sure that the vecotrs are still normalized\n",
    "                        assert np.allclose(np.linalg.norm(wio, axis=0), 1), \"Normalization gone wrong!\"\n",
    "                        # Change normalization to the proper one\n",
    "                        wio *= np.sqrt(dim_rec)\n",
    "                        wi_init = wio[:, :dim_in].T.copy()\n",
    "                        wo_init = wio[:, dim_in:].copy() / dim_rec\n",
    "                        del wio\n",
    "\n",
    "                    wrec_init = g * wrec_0\n",
    "\n",
    "                    # Network\n",
    "                    net = RNN(dims, noise_std, dt, nonlinearity, g=g, wi_init=wi_init, wo_init=wo_init, wrec_init=wrec_init,\n",
    "                              train_wi = True, train_wo = True, train_brec = True, train_h0 = True)\n",
    "                    # Train\n",
    "                    time0_t = time.time()\n",
    "\n",
    "                    res = train(net, task, n_epochs, batch_size, lr, cuda=use_cuda, rec_step=rec_step, optimizer=optimizer, \n",
    "                                verbose=False, fwd_mode = fwd_mode, mage = mage, n_directions = n_directions,warmup = warmup, save_V_steps = save_V_steps, step_weight = step_weight)\n",
    "                    losses, grad_norms, weights_init, weights_last, weights_train, _, _ = res\n",
    "                    # Weights\n",
    "                    all_results[(save_V_steps,n_directions,lr_factor)] = res\n",
    "                    plt.semilogy(losses, label = f\"lr = {lr_factor}, directions = {n_directions}, SaveV = {save_V_steps}\")\n",
    "\n",
    "                    if mage:\n",
    "                        print(f\"fwd mage, n_directions= {n_directions}, lr = {lr}, SaveV = {save_V_steps}\")\n",
    "                    elif fwd_mode:\n",
    "                        print(f\"fwd mode, n_directions= {n_directions}, lr = {lr}, SaveV = {save_V_steps}\")\n",
    "                    else:\n",
    "                        print(f\"backprop, lr = {lr}\")\n",
    "\n",
    "    plt.legend()\n",
    "    plt.show()\n",
    "    return all_results"
   ]
  },
  {
   "cell_type": "code",
   "execution_count": null,
   "metadata": {},
   "outputs": [],
   "source": [
    "%time all_results = run(mage = True, fwd_mode = True, n_directions_list = [1], lr_factors = [3,1,0.3,0.1,0.03,0.01] ,warmup = 3, save_V_steps_list = [-1,200,100,50,20,10,5,1])\n",
    "\n",
    "\n",
    "step_weight"
   ]
  },
  {
   "cell_type": "code",
   "execution_count": 13,
   "metadata": {},
   "outputs": [
    {
     "name": "stderr",
     "output_type": "stream",
     "text": [
      "loss: 6.71e-07: 100%|████████████████████████████████████████████████████████████████████████████████████████████████████████████████████████████████████████████| 200/200 [00:28<00:00,  6.90it/s]\n",
      "loss: 1.28e-01:   0%|▋                                                                                                                                             | 1/200 [00:00<00:21,  9.40it/s]"
     ]
    },
    {
     "name": "stdout",
     "output_type": "stream",
     "text": [
      "fwd mage, n_directions= 1, lr = 0.0253125, SaveV = -1\n"
     ]
    },
    {
     "name": "stderr",
     "output_type": "stream",
     "text": [
      "loss: 4.70e-08: 100%|████████████████████████████████████████████████████████████████████████████████████████████████████████████████████████████████████████████| 200/200 [00:27<00:00,  7.17it/s]\n",
      "loss: 1.30e-01:   0%|▋                                                                                                                                             | 1/200 [00:00<00:21,  9.39it/s]"
     ]
    },
    {
     "name": "stdout",
     "output_type": "stream",
     "text": [
      "fwd mage, n_directions= 1, lr = 0.0084375, SaveV = -1\n"
     ]
    },
    {
     "name": "stderr",
     "output_type": "stream",
     "text": [
      "loss: 2.46e-06: 100%|████████████████████████████████████████████████████████████████████████████████████████████████████████████████████████████████████████████| 200/200 [00:28<00:00,  7.08it/s]\n",
      "loss: 1.35e-01:   0%|▋                                                                                                                                             | 1/200 [00:00<00:22,  8.77it/s]"
     ]
    },
    {
     "name": "stdout",
     "output_type": "stream",
     "text": [
      "fwd mage, n_directions= 1, lr = 0.00253125, SaveV = -1\n"
     ]
    },
    {
     "name": "stderr",
     "output_type": "stream",
     "text": [
      "loss: 4.23e-06: 100%|████████████████████████████████████████████████████████████████████████████████████████████████████████████████████████████████████████████| 200/200 [00:27<00:00,  7.20it/s]\n",
      "loss: 1.26e-01:   0%|▋                                                                                                                                             | 1/200 [00:00<00:21,  9.39it/s]"
     ]
    },
    {
     "name": "stdout",
     "output_type": "stream",
     "text": [
      "fwd mage, n_directions= 1, lr = 0.0008437500000000001, SaveV = -1\n"
     ]
    },
    {
     "name": "stderr",
     "output_type": "stream",
     "text": [
      "loss: 3.56e-06: 100%|████████████████████████████████████████████████████████████████████████████████████████████████████████████████████████████████████████████| 200/200 [00:27<00:00,  7.16it/s]\n",
      "loss: 1.39e-01:   0%|▋                                                                                                                                             | 1/200 [00:00<00:21,  9.41it/s]"
     ]
    },
    {
     "name": "stdout",
     "output_type": "stream",
     "text": [
      "fwd mage, n_directions= 1, lr = 0.000253125, SaveV = -1\n"
     ]
    },
    {
     "name": "stderr",
     "output_type": "stream",
     "text": [
      "loss: 1.28e-05: 100%|████████████████████████████████████████████████████████████████████████████████████████████████████████████████████████████████████████████| 200/200 [00:28<00:00,  7.14it/s]\n",
      "loss: 1.20e-01:   0%|▋                                                                                                                                             | 1/200 [00:00<00:20,  9.86it/s]"
     ]
    },
    {
     "name": "stdout",
     "output_type": "stream",
     "text": [
      "fwd mage, n_directions= 1, lr = 8.4375e-05, SaveV = -1\n"
     ]
    },
    {
     "name": "stderr",
     "output_type": "stream",
     "text": [
      "loss: 4.44e-16: 100%|████████████████████████████████████████████████████████████████████████████████████████████████████████████████████████████████████████████| 200/200 [00:27<00:00,  7.21it/s]\n",
      "loss: 1.03e-01:   0%|                                                                                                                                                      | 0/200 [00:00<?, ?it/s]"
     ]
    },
    {
     "name": "stdout",
     "output_type": "stream",
     "text": [
      "fwd mage, n_directions= 1, lr = 0.0253125, SaveV = 200\n"
     ]
    },
    {
     "name": "stderr",
     "output_type": "stream",
     "text": [
      "loss: 0.00e+00: 100%|████████████████████████████████████████████████████████████████████████████████████████████████████████████████████████████████████████████| 200/200 [00:28<00:00,  7.03it/s]\n",
      "loss: 1.37e-01:   0%|▋                                                                                                                                             | 1/200 [00:00<00:22,  8.97it/s]"
     ]
    },
    {
     "name": "stdout",
     "output_type": "stream",
     "text": [
      "fwd mage, n_directions= 1, lr = 0.0084375, SaveV = 200\n"
     ]
    },
    {
     "name": "stderr",
     "output_type": "stream",
     "text": [
      "loss: 4.44e-15: 100%|████████████████████████████████████████████████████████████████████████████████████████████████████████████████████████████████████████████| 200/200 [00:28<00:00,  7.01it/s]\n",
      "loss: 1.16e-01:   0%|▋                                                                                                                                             | 1/200 [00:00<00:20,  9.92it/s]"
     ]
    },
    {
     "name": "stdout",
     "output_type": "stream",
     "text": [
      "fwd mage, n_directions= 1, lr = 0.00253125, SaveV = 200\n"
     ]
    },
    {
     "name": "stderr",
     "output_type": "stream",
     "text": [
      "loss: 3.00e-13: 100%|████████████████████████████████████████████████████████████████████████████████████████████████████████████████████████████████████████████| 200/200 [00:28<00:00,  7.01it/s]\n",
      "loss: 1.30e-01:   0%|▋                                                                                                                                             | 1/200 [00:00<00:20,  9.65it/s]"
     ]
    },
    {
     "name": "stdout",
     "output_type": "stream",
     "text": [
      "fwd mage, n_directions= 1, lr = 0.0008437500000000001, SaveV = 200\n"
     ]
    },
    {
     "name": "stderr",
     "output_type": "stream",
     "text": [
      "loss: 3.66e-07: 100%|████████████████████████████████████████████████████████████████████████████████████████████████████████████████████████████████████████████| 200/200 [00:28<00:00,  7.02it/s]\n",
      "loss: 1.07e-01:   0%|                                                                                                                                                      | 0/200 [00:00<?, ?it/s]"
     ]
    },
    {
     "name": "stdout",
     "output_type": "stream",
     "text": [
      "fwd mage, n_directions= 1, lr = 0.000253125, SaveV = 200\n"
     ]
    },
    {
     "name": "stderr",
     "output_type": "stream",
     "text": [
      "loss: 1.25e-06: 100%|████████████████████████████████████████████████████████████████████████████████████████████████████████████████████████████████████████████| 200/200 [00:28<00:00,  6.93it/s]\n",
      "loss: 1.40e-01:   0%|▋                                                                                                                                             | 1/200 [00:00<00:22,  8.84it/s]"
     ]
    },
    {
     "name": "stdout",
     "output_type": "stream",
     "text": [
      "fwd mage, n_directions= 1, lr = 8.4375e-05, SaveV = 200\n"
     ]
    },
    {
     "name": "stderr",
     "output_type": "stream",
     "text": [
      "loss: 2.98e-02:   4%|█████▋                                                                                                                                        | 8/200 [00:01<00:28,  6.75it/s]\n",
      "loss: 3.66e+01:   8%|███████████▉                                                                                                                                 | 17/200 [00:02<00:27,  6.74it/s]\n",
      "loss: 2.03e+03:  22%|██████████████████████████████▎                                                                                                              | 43/200 [00:06<00:23,  6.77it/s]\n",
      "loss: 0.00e+00: 100%|████████████████████████████████████████████████████████████████████████████████████████████████████████████████████████████████████████████| 200/200 [00:28<00:00,  6.93it/s]\n",
      "loss: 9.57e-02:   0%|▋                                                                                                                                             | 1/200 [00:00<00:21,  9.25it/s]"
     ]
    },
    {
     "name": "stdout",
     "output_type": "stream",
     "text": [
      "fwd mage, n_directions= 1, lr = 0.0008437500000000001, SaveV = 100\n"
     ]
    },
    {
     "name": "stderr",
     "output_type": "stream",
     "text": [
      "loss: 7.11e-15: 100%|████████████████████████████████████████████████████████████████████████████████████████████████████████████████████████████████████████████| 200/200 [00:28<00:00,  6.92it/s]\n",
      "loss: 1.33e-01:   0%|▋                                                                                                                                             | 1/200 [00:00<00:25,  7.95it/s]"
     ]
    },
    {
     "name": "stdout",
     "output_type": "stream",
     "text": [
      "fwd mage, n_directions= 1, lr = 0.000253125, SaveV = 100\n"
     ]
    },
    {
     "name": "stderr",
     "output_type": "stream",
     "text": [
      "loss: 1.56e-06: 100%|████████████████████████████████████████████████████████████████████████████████████████████████████████████████████████████████████████████| 200/200 [00:29<00:00,  6.82it/s]\n",
      "loss: 1.25e-01:   0%|▋                                                                                                                                             | 1/200 [00:00<00:25,  7.94it/s]"
     ]
    },
    {
     "name": "stdout",
     "output_type": "stream",
     "text": [
      "fwd mage, n_directions= 1, lr = 8.4375e-05, SaveV = 100\n"
     ]
    },
    {
     "name": "stderr",
     "output_type": "stream",
     "text": [
      "loss: 1.03e+04:   4%|█████▋                                                                                                                                        | 8/200 [00:01<00:31,  6.15it/s]\n",
      "loss: 2.84e+02:   4%|█████▋                                                                                                                                        | 8/200 [00:01<00:30,  6.20it/s]\n",
      "loss: 4.25e+06:  22%|██████████████████████████████▎                                                                                                              | 43/200 [00:06<00:23,  6.77it/s]\n",
      "loss: 4.44e-16: 100%|████████████████████████████████████████████████████████████████████████████████████████████████████████████████████████████████████████████| 200/200 [00:29<00:00,  6.84it/s]\n",
      "loss: 1.17e-01:   0%|▋                                                                                                                                             | 1/200 [00:00<00:23,  8.31it/s]"
     ]
    },
    {
     "name": "stdout",
     "output_type": "stream",
     "text": [
      "fwd mage, n_directions= 1, lr = 0.0008437500000000001, SaveV = 50\n"
     ]
    },
    {
     "name": "stderr",
     "output_type": "stream",
     "text": [
      "loss: 6.10e-07: 100%|████████████████████████████████████████████████████████████████████████████████████████████████████████████████████████████████████████████| 200/200 [00:29<00:00,  6.82it/s]\n",
      "loss: 1.46e-01:   0%|▋                                                                                                                                             | 1/200 [00:00<00:24,  8.11it/s]"
     ]
    },
    {
     "name": "stdout",
     "output_type": "stream",
     "text": [
      "fwd mage, n_directions= 1, lr = 0.000253125, SaveV = 50\n"
     ]
    },
    {
     "name": "stderr",
     "output_type": "stream",
     "text": [
      "loss: 5.57e-07: 100%|████████████████████████████████████████████████████████████████████████████████████████████████████████████████████████████████████████████| 200/200 [00:29<00:00,  6.79it/s]\n",
      "loss: 1.02e-01:   0%|▋                                                                                                                                             | 1/200 [00:00<00:24,  8.27it/s]"
     ]
    },
    {
     "name": "stdout",
     "output_type": "stream",
     "text": [
      "fwd mage, n_directions= 1, lr = 8.4375e-05, SaveV = 50\n"
     ]
    },
    {
     "name": "stderr",
     "output_type": "stream",
     "text": [
      "loss: 2.68e+01:   4%|█████▋                                                                                                                                        | 8/200 [00:01<00:30,  6.36it/s]\n",
      "loss: 4.54e+00:   8%|███████████▎                                                                                                                                 | 16/200 [00:02<00:29,  6.26it/s]\n",
      "loss: 1.78e-15: 100%|████████████████████████████████████████████████████████████████████████████████████████████████████████████████████████████████████████████| 200/200 [00:38<00:00,  5.24it/s]\n",
      "loss: 1.32e-01:   0%|▋                                                                                                                                             | 1/200 [00:00<00:23,  8.49it/s]"
     ]
    },
    {
     "name": "stdout",
     "output_type": "stream",
     "text": [
      "fwd mage, n_directions= 1, lr = 0.00253125, SaveV = 20\n"
     ]
    },
    {
     "name": "stderr",
     "output_type": "stream",
     "text": [
      "loss: 1.78e-15: 100%|████████████████████████████████████████████████████████████████████████████████████████████████████████████████████████████████████████████| 200/200 [00:38<00:00,  5.22it/s]\n",
      "loss: 9.68e-02:   0%|▋                                                                                                                                             | 1/200 [00:00<00:23,  8.51it/s]"
     ]
    },
    {
     "name": "stdout",
     "output_type": "stream",
     "text": [
      "fwd mage, n_directions= 1, lr = 0.0008437500000000001, SaveV = 20\n"
     ]
    },
    {
     "name": "stderr",
     "output_type": "stream",
     "text": [
      "loss: 5.69e-09: 100%|████████████████████████████████████████████████████████████████████████████████████████████████████████████████████████████████████████████| 200/200 [00:37<00:00,  5.28it/s]\n",
      "loss: 9.51e-02:   0%|▋                                                                                                                                             | 1/200 [00:00<00:23,  8.56it/s]"
     ]
    },
    {
     "name": "stdout",
     "output_type": "stream",
     "text": [
      "fwd mage, n_directions= 1, lr = 0.000253125, SaveV = 20\n"
     ]
    },
    {
     "name": "stderr",
     "output_type": "stream",
     "text": [
      "loss: 9.39e-08: 100%|████████████████████████████████████████████████████████████████████████████████████████████████████████████████████████████████████████████| 200/200 [00:37<00:00,  5.27it/s]\n",
      "loss: 1.61e-01:   0%|▋                                                                                                                                             | 1/200 [00:00<00:23,  8.63it/s]"
     ]
    },
    {
     "name": "stdout",
     "output_type": "stream",
     "text": [
      "fwd mage, n_directions= 1, lr = 8.4375e-05, SaveV = 20\n"
     ]
    },
    {
     "name": "stderr",
     "output_type": "stream",
     "text": [
      "loss: 1.08e-01:   4%|██████▍                                                                                                                                       | 9/200 [00:01<00:36,  5.18it/s]\n",
      "loss: 9.53e+02:   8%|███████████▉                                                                                                                                 | 17/200 [00:02<00:29,  6.31it/s]\n",
      "loss: 0.00e+00: 100%|████████████████████████████████████████████████████████████████████████████████████████████████████████████████████████████████████████████| 200/200 [00:30<00:00,  6.64it/s]\n",
      "loss: 1.19e-01:   0%|▋                                                                                                                                             | 1/200 [00:00<00:21,  9.27it/s]"
     ]
    },
    {
     "name": "stdout",
     "output_type": "stream",
     "text": [
      "fwd mage, n_directions= 1, lr = 0.00253125, SaveV = 10\n"
     ]
    },
    {
     "name": "stderr",
     "output_type": "stream",
     "text": [
      "loss: 0.00e+00: 100%|████████████████████████████████████████████████████████████████████████████████████████████████████████████████████████████████████████████| 200/200 [00:33<00:00,  5.98it/s]\n",
      "  0%|                                                                                                                                                                      | 0/200 [00:00<?, ?it/s]"
     ]
    },
    {
     "name": "stdout",
     "output_type": "stream",
     "text": [
      "fwd mage, n_directions= 1, lr = 0.0008437500000000001, SaveV = 10\n"
     ]
    },
    {
     "name": "stderr",
     "output_type": "stream",
     "text": [
      "loss: 4.01e-10: 100%|████████████████████████████████████████████████████████████████████████████████████████████████████████████████████████████████████████████| 200/200 [00:39<00:00,  5.05it/s]\n",
      "loss: 1.28e-01:   0%|▋                                                                                                                                             | 1/200 [00:00<00:25,  7.80it/s]"
     ]
    },
    {
     "name": "stdout",
     "output_type": "stream",
     "text": [
      "fwd mage, n_directions= 1, lr = 0.000253125, SaveV = 10\n"
     ]
    },
    {
     "name": "stderr",
     "output_type": "stream",
     "text": [
      "loss: 6.12e-07: 100%|████████████████████████████████████████████████████████████████████████████████████████████████████████████████████████████████████████████| 200/200 [00:30<00:00,  6.65it/s]\n",
      "loss: 1.24e-01:   0%|▋                                                                                                                                             | 1/200 [00:00<00:21,  9.23it/s]"
     ]
    },
    {
     "name": "stdout",
     "output_type": "stream",
     "text": [
      "fwd mage, n_directions= 1, lr = 8.4375e-05, SaveV = 10\n"
     ]
    },
    {
     "name": "stderr",
     "output_type": "stream",
     "text": [
      "loss: 4.47e+37:   5%|███████                                                                                                                                      | 10/200 [00:01<00:30,  6.23it/s]\n",
      "loss: 0.00e+00: 100%|████████████████████████████████████████████████████████████████████████████████████████████████████████████████████████████████████████████| 200/200 [00:32<00:00,  6.23it/s]\n",
      "  0%|                                                                                                                                                                      | 0/200 [00:00<?, ?it/s]"
     ]
    },
    {
     "name": "stdout",
     "output_type": "stream",
     "text": [
      "fwd mage, n_directions= 1, lr = 0.0084375, SaveV = 5\n"
     ]
    },
    {
     "name": "stderr",
     "output_type": "stream",
     "text": [
      "loss: 0.00e+00: 100%|████████████████████████████████████████████████████████████████████████████████████████████████████████████████████████████████████████████| 200/200 [00:42<00:00,  4.72it/s]\n"
     ]
    },
    {
     "name": "stdout",
     "output_type": "stream",
     "text": [
      "fwd mage, n_directions= 1, lr = 0.00253125, SaveV = 5\n"
     ]
    },
    {
     "name": "stderr",
     "output_type": "stream",
     "text": [
      "loss: 4.55e-13: 100%|████████████████████████████████████████████████████████████████████████████████████████████████████████████████████████████████████████████| 200/200 [00:32<00:00,  6.11it/s]\n"
     ]
    },
    {
     "name": "stdout",
     "output_type": "stream",
     "text": [
      "fwd mage, n_directions= 1, lr = 0.0008437500000000001, SaveV = 5\n"
     ]
    },
    {
     "name": "stderr",
     "output_type": "stream",
     "text": [
      "loss: 6.10e-07: 100%|████████████████████████████████████████████████████████████████████████████████████████████████████████████████████████████████████████████| 200/200 [00:32<00:00,  6.21it/s]\n"
     ]
    },
    {
     "name": "stdout",
     "output_type": "stream",
     "text": [
      "fwd mage, n_directions= 1, lr = 0.000253125, SaveV = 5\n"
     ]
    },
    {
     "name": "stderr",
     "output_type": "stream",
     "text": [
      "loss: 2.63e-06: 100%|████████████████████████████████████████████████████████████████████████████████████████████████████████████████████████████████████████████| 200/200 [00:32<00:00,  6.14it/s]\n",
      "loss: 1.19e-01:   0%|▋                                                                                                                                             | 1/200 [00:00<00:21,  9.33it/s]"
     ]
    },
    {
     "name": "stdout",
     "output_type": "stream",
     "text": [
      "fwd mage, n_directions= 1, lr = 8.4375e-05, SaveV = 5\n"
     ]
    },
    {
     "name": "stderr",
     "output_type": "stream",
     "text": [
      "loss: 0.00e+00: 100%|████████████████████████████████████████████████████████████████████████████████████████████████████████████████████████████████████████████| 200/200 [01:00<00:00,  3.28it/s]\n"
     ]
    },
    {
     "name": "stdout",
     "output_type": "stream",
     "text": [
      "fwd mage, n_directions= 1, lr = 0.0253125, SaveV = 1\n"
     ]
    },
    {
     "name": "stderr",
     "output_type": "stream",
     "text": [
      "loss: 0.00e+00: 100%|████████████████████████████████████████████████████████████████████████████████████████████████████████████████████████████████████████████| 200/200 [01:05<00:00,  3.04it/s]\n",
      "loss: 1.40e-01:   0%|▋                                                                                                                                             | 1/200 [00:00<00:25,  7.95it/s]"
     ]
    },
    {
     "name": "stdout",
     "output_type": "stream",
     "text": [
      "fwd mage, n_directions= 1, lr = 0.0084375, SaveV = 1\n"
     ]
    },
    {
     "name": "stderr",
     "output_type": "stream",
     "text": [
      "loss: 1.78e-15: 100%|████████████████████████████████████████████████████████████████████████████████████████████████████████████████████████████████████████████| 200/200 [01:01<00:00,  3.23it/s]\n",
      "loss: 1.01e-01:   0%|▋                                                                                                                                             | 1/200 [00:00<00:24,  7.99it/s]"
     ]
    },
    {
     "name": "stdout",
     "output_type": "stream",
     "text": [
      "fwd mage, n_directions= 1, lr = 0.00253125, SaveV = 1\n"
     ]
    },
    {
     "name": "stderr",
     "output_type": "stream",
     "text": [
      "loss: 2.23e-08: 100%|████████████████████████████████████████████████████████████████████████████████████████████████████████████████████████████████████████████| 200/200 [01:01<00:00,  3.24it/s]\n"
     ]
    },
    {
     "name": "stdout",
     "output_type": "stream",
     "text": [
      "fwd mage, n_directions= 1, lr = 0.0008437500000000001, SaveV = 1\n"
     ]
    },
    {
     "name": "stderr",
     "output_type": "stream",
     "text": [
      "loss: 2.30e-08: 100%|████████████████████████████████████████████████████████████████████████████████████████████████████████████████████████████████████████████| 200/200 [00:48<00:00,  4.16it/s]\n",
      "  0%|                                                                                                                                                                      | 0/200 [00:00<?, ?it/s]"
     ]
    },
    {
     "name": "stdout",
     "output_type": "stream",
     "text": [
      "fwd mage, n_directions= 1, lr = 0.000253125, SaveV = 1\n"
     ]
    },
    {
     "name": "stderr",
     "output_type": "stream",
     "text": [
      "loss: 1.18e-06: 100%|████████████████████████████████████████████████████████████████████████████████████████████████████████████████████████████████████████████| 200/200 [00:47<00:00,  4.21it/s]\n"
     ]
    },
    {
     "name": "stdout",
     "output_type": "stream",
     "text": [
      "fwd mage, n_directions= 1, lr = 8.4375e-05, SaveV = 1\n"
     ]
    },
    {
     "data": {
      "image/png": "[encoded data removed]",
      "text/plain": [
       "<Figure size 432x288 with 1 Axes>"
      ]
     },
     "metadata": {
      "needs_background": "light"
     },
     "output_type": "display_data"
    },
    {
     "name": "stdout",
     "output_type": "stream",
     "text": [
      "CPU times: user 24min 38s, sys: 1min 23s, total: 26min 2s\n",
      "Wall time: 22min 32s\n"
     ]
    }
   ],
   "source": [
    "%time all_results = run(mage = True, fwd_mode = True, n_directions_list = [1], lr_factors = [3,1,0.3,0.1,0.03,0.01] ,warmup = 3, save_V_steps_list = [-1,200,100,50,20,10,5,1], step_weight = \"linear\")\n"
   ]
  },
  {
   "cell_type": "code",
   "execution_count": 24,
   "metadata": {},
   "outputs": [],
   "source": [
    "all_results = _"
   ]
  },
  {
   "cell_type": "code",
   "execution_count": 14,
   "metadata": {},
   "outputs": [
    {
     "data": {
      "text/plain": [
       "<matplotlib.legend.Legend at 0x7f9003e79ee0>"
      ]
     },
     "execution_count": 14,
     "metadata": {},
     "output_type": "execute_result"
    },
    {
     "data": {
      "image/png": "[encoded data removed]",
      "text/plain": [
       "<Figure size 432x288 with 1 Axes>"
      ]
     },
     "metadata": {
      "needs_background": "light"
     },
     "output_type": "display_data"
    }
   ],
   "source": [
    "\n",
    "\n",
    "for save_V_steps in [-1,200,100,50,20,10,5,1]:\n",
    "    for n_directions in [1]:\n",
    "        minimal = 10000000\n",
    "        best = -1\n",
    "        for lr_factor in [3,1,0.3,0.1,0.03,0.01]:\n",
    "            try:\n",
    "                losses = all_results[(save_V_steps,n_directions,lr_factor)][0]\n",
    "                if minimal > losses.min():\n",
    "                    best = lr_factor\n",
    "                    minimal = losses.min()\n",
    "            except:\n",
    "                pass\n",
    "        if best >=0:\n",
    "            losses = all_results[(save_V_steps,n_directions,best)][0]\n",
    "            plt.semilogy(losses, label = f\"New V Every = {save_V_steps}\")\n",
    "\n",
    "plt.plot([3]*100, np.logspace(0,-16,100),\"--\",color = 'k', label = \"warmup\")\n",
    "plt.legend()\n"
   ]
  },
  {
   "cell_type": "code",
   "execution_count": 31,
   "metadata": {},
   "outputs": [
    {
     "data": {
      "text/plain": [
       "[(-1, 1, 3),\n",
       " (-1, 1, 1),\n",
       " (-1, 1, 0.3),\n",
       " (-1, 1, 0.1),\n",
       " (-1, 1, 0.03),\n",
       " (-1, 1, 0.01),\n",
       " (200, 1, 3),\n",
       " (200, 1, 1),\n",
       " (200, 1, 0.3),\n",
       " (200, 1, 0.1),\n",
       " (200, 1, 0.03),\n",
       " (200, 1, 0.01),\n",
       " (100, 1, 0.3),\n",
       " (100, 1, 0.1),\n",
       " (100, 1, 0.03),\n",
       " (100, 1, 0.01),\n",
       " (50, 1, 0.3),\n",
       " (50, 1, 0.1),\n",
       " (50, 1, 0.03),\n",
       " (50, 1, 0.01),\n",
       " (20, 1, 0.3),\n",
       " (20, 1, 0.1),\n",
       " (20, 1, 0.03),\n",
       " (20, 1, 0.01),\n",
       " (10, 1, 0.3),\n",
       " (10, 1, 0.1),\n",
       " (10, 1, 0.03),\n",
       " (10, 1, 0.01),\n",
       " (5, 1, 0.3),\n",
       " (5, 1, 0.1),\n",
       " (5, 1, 0.03),\n",
       " (5, 1, 0.01),\n",
       " (1, 1, 3),\n",
       " (1, 1, 1),\n",
       " (1, 1, 0.3),\n",
       " (1, 1, 0.1),\n",
       " (1, 1, 0.03),\n",
       " (1, 1, 0.01)]"
      ]
     },
     "execution_count": 31,
     "metadata": {},
     "output_type": "execute_result"
    }
   ],
   "source": [
    "list(all_results.keys())"
   ]
  },
  {
   "cell_type": "code",
   "execution_count": 21,
   "metadata": {},
   "outputs": [
    {
     "ename": "NameError",
     "evalue": "name 'all_results' is not defined",
     "output_type": "error",
     "traceback": [
      "\u001b[0;31m---------------------------------------------------------------------------\u001b[0m",
      "\u001b[0;31mNameError\u001b[0m                                 Traceback (most recent call last)",
      "\u001b[0;32m/tmp/ipykernel_31487/1660453334.py\u001b[0m in \u001b[0;36m<module>\u001b[0;34m\u001b[0m\n\u001b[0;32m----> 1\u001b[0;31m \u001b[0mall_results_backup\u001b[0m \u001b[0;34m=\u001b[0m \u001b[0mall_results\u001b[0m\u001b[0;34m\u001b[0m\u001b[0;34m\u001b[0m\u001b[0m\n\u001b[0m",
      "\u001b[0;31mNameError\u001b[0m: name 'all_results' is not defined"
     ]
    }
   ],
   "source": [
    "all_results_backup = all_results"
   ]
  },
  {
   "cell_type": "code",
   "execution_count": 7,
   "metadata": {},
   "outputs": [
    {
     "name": "stderr",
     "output_type": "stream",
     "text": [
      "loss: 9.61e-02:   0%|                                                                                                                                                      | 0/200 [00:00<?, ?it/s]\n",
      "loss: 1.17e-01:   0%|                                                                                                                                                      | 0/200 [00:00<?, ?it/s]\n",
      "loss: 1.23e-01:   0%|                                                                                                                                                      | 0/200 [00:00<?, ?it/s]\n",
      "loss: 9.46e-02:   0%|                                                                                                                                                      | 0/200 [00:00<?, ?it/s]\n",
      "loss: 1.22e-01:   0%|                                                                                                                                                      | 0/200 [00:00<?, ?it/s]\n",
      "loss: 1.20e-01:   0%|                                                                                                                                                      | 0/200 [00:00<?, ?it/s]\n",
      "loss: 1.45e-01:   0%|                                                                                                                                                      | 0/200 [00:00<?, ?it/s]\n",
      "loss: 1.43e-01:   0%|                                                                                                                                                      | 0/200 [00:00<?, ?it/s]\n",
      "No artists with labels found to put in legend.  Note that artists whose label start with an underscore are ignored when legend() is called with no argument.\n"
     ]
    },
    {
     "data": {
      "image/png": "[encoded data removed]",
      "text/plain": [
       "<Figure size 432x288 with 1 Axes>"
      ]
     },
     "metadata": {
      "needs_background": "light"
     },
     "output_type": "display_data"
    },
    {
     "name": "stdout",
     "output_type": "stream",
     "text": [
      "CPU times: user 29.7 s, sys: 708 ms, total: 30.4 s\n",
      "Wall time: 2.1 s\n"
     ]
    }
   ],
   "source": [
    "%time run(mage = True, fwd_mode = True, n_directions_list = [1], lr_factors = [1/10] ,warmup = -1, save_V_steps_list = [-1,200,100,50,20,10,5,1])"
   ]
  },
  {
   "cell_type": "code",
   "execution_count": 8,
   "metadata": {},
   "outputs": [
    {
     "name": "stderr",
     "output_type": "stream",
     "text": [
      "loss: 1.15e-01:   0%|                                                                                                                                                      | 0/200 [00:00<?, ?it/s]\n",
      "loss: 9.87e-02:   0%|                                                                                                                                                      | 0/200 [00:00<?, ?it/s]\n",
      "loss: 1.03e-01:   0%|                                                                                                                                                      | 0/200 [00:00<?, ?it/s]\n",
      "loss: 1.30e-01:   0%|                                                                                                                                                      | 0/200 [00:00<?, ?it/s]\n",
      "loss: 1.17e-01:   0%|                                                                                                                                                      | 0/200 [00:00<?, ?it/s]\n",
      "loss: 1.32e-01:   0%|                                                                                                                                                      | 0/200 [00:00<?, ?it/s]\n",
      "loss: 1.28e-01:   0%|                                                                                                                                                      | 0/200 [00:00<?, ?it/s]\n",
      "loss: 1.53e-01:   0%|                                                                                                                                                      | 0/200 [00:00<?, ?it/s]\n",
      "No artists with labels found to put in legend.  Note that artists whose label start with an underscore are ignored when legend() is called with no argument.\n"
     ]
    },
    {
     "data": {
      "image/png": "[encoded data removed]",
      "text/plain": [
       "<Figure size 432x288 with 1 Axes>"
      ]
     },
     "metadata": {
      "needs_background": "light"
     },
     "output_type": "display_data"
    },
    {
     "name": "stdout",
     "output_type": "stream",
     "text": [
      "CPU times: user 29.5 s, sys: 830 ms, total: 30.3 s\n",
      "Wall time: 2.03 s\n"
     ]
    }
   ],
   "source": [
    "%time run(mage = True, fwd_mode = True, n_directions_list = [1], lr_factors = [1/10] ,warmup = -1, save_V_steps_list = [-1,200,100,50,20,10,5,1])"
   ]
  },
  {
   "cell_type": "code",
   "execution_count": 9,
   "metadata": {},
   "outputs": [
    {
     "name": "stderr",
     "output_type": "stream",
     "text": [
      "loss: 1.08e-01:   0%|                                                                                                                                                      | 0/200 [00:00<?, ?it/s]\n",
      "loss: 1.34e-01:   0%|                                                                                                                                                      | 0/200 [00:00<?, ?it/s]\n",
      "loss: 1.35e-01:   0%|                                                                                                                                                      | 0/200 [00:00<?, ?it/s]\n",
      "loss: 1.49e-01:   0%|                                                                                                                                                      | 0/200 [00:00<?, ?it/s]\n",
      "loss: 1.30e-01:   0%|                                                                                                                                                      | 0/200 [00:00<?, ?it/s]\n",
      "loss: 9.27e-02:   0%|                                                                                                                                                      | 0/200 [00:00<?, ?it/s]\n",
      "loss: 1.11e-01:   0%|                                                                                                                                                      | 0/200 [00:00<?, ?it/s]\n",
      "loss: 9.81e-02:   0%|                                                                                                                                                      | 0/200 [00:00<?, ?it/s]\n",
      "No artists with labels found to put in legend.  Note that artists whose label start with an underscore are ignored when legend() is called with no argument.\n"
     ]
    },
    {
     "data": {
      "image/png": "[encoded data removed]",
      "text/plain": [
       "<Figure size 432x288 with 1 Axes>"
      ]
     },
     "metadata": {
      "needs_background": "light"
     },
     "output_type": "display_data"
    },
    {
     "name": "stdout",
     "output_type": "stream",
     "text": [
      "CPU times: user 29.8 s, sys: 725 ms, total: 30.5 s\n",
      "Wall time: 2.25 s\n"
     ]
    }
   ],
   "source": [
    "%time run(mage = True, fwd_mode = True, n_directions_list = [1], lr_factors = [1] ,warmup = -1, save_V_steps_list = [-1,200,100,50,20,10,5,1])"
   ]
  },
  {
   "cell_type": "code",
   "execution_count": 10,
   "metadata": {},
   "outputs": [
    {
     "name": "stderr",
     "output_type": "stream",
     "text": [
      "loss: 1.47e-01:   0%|                                                                                                                                                      | 0/200 [00:00<?, ?it/s]\n",
      "loss: 1.05e-01:   0%|                                                                                                                                                      | 0/200 [00:00<?, ?it/s]\n",
      "loss: 1.28e-01:   0%|                                                                                                                                                      | 0/200 [00:00<?, ?it/s]\n",
      "loss: 1.02e-01:   0%|                                                                                                                                                      | 0/200 [00:00<?, ?it/s]\n",
      "loss: 9.65e-02:   0%|                                                                                                                                                      | 0/200 [00:00<?, ?it/s]\n",
      "loss: 1.11e-01:   0%|                                                                                                                                                      | 0/200 [00:00<?, ?it/s]\n",
      "loss: 1.26e-01:   0%|                                                                                                                                                      | 0/200 [00:00<?, ?it/s]\n",
      "loss: 1.09e-01:   0%|                                                                                                                                                      | 0/200 [00:00<?, ?it/s]\n",
      "loss: 1.33e-01:   0%|                                                                                                                                                      | 0/200 [00:00<?, ?it/s]\n",
      "loss: 1.14e-01:   0%|                                                                                                                                                      | 0/200 [00:00<?, ?it/s]\n",
      "loss: 1.31e-01:   0%|                                                                                                                                                      | 0/200 [00:00<?, ?it/s]\n",
      "loss: 1.12e-01:   0%|                                                                                                                                                      | 0/200 [00:00<?, ?it/s]\n",
      "No artists with labels found to put in legend.  Note that artists whose label start with an underscore are ignored when legend() is called with no argument.\n"
     ]
    },
    {
     "data": {
      "image/png": "[encoded data removed]",
      "text/plain": [
       "<Figure size 432x288 with 1 Axes>"
      ]
     },
     "metadata": {
      "needs_background": "light"
     },
     "output_type": "display_data"
    },
    {
     "name": "stdout",
     "output_type": "stream",
     "text": [
      "CPU times: user 46.3 s, sys: 1.03 s, total: 47.3 s\n",
      "Wall time: 4.88 s\n"
     ]
    }
   ],
   "source": [
    "%time run(mage = True, fwd_mode = True, n_directions_list = [1,3], lr_factors = [1,2,3,5,7,10])"
   ]
  },
  {
   "cell_type": "code",
   "execution_count": 11,
   "metadata": {},
   "outputs": [
    {
     "name": "stderr",
     "output_type": "stream",
     "text": [
      "loss: nan: 100%|█████████████████████████████████████████████████████████████████████████████████████████████████████████████████████████████████████████████████| 200/200 [00:24<00:00,  8.04it/s]\n",
      "loss: 1.23e-01:   0%|▋                                                                                                                                             | 1/200 [00:00<00:26,  7.62it/s]"
     ]
    },
    {
     "name": "stdout",
     "output_type": "stream",
     "text": [
      "fwd mage, n_directions= 1, lr = 0.0084375, SaveV = -1\n"
     ]
    },
    {
     "name": "stderr",
     "output_type": "stream",
     "text": [
      "loss: 0.00e+00: 100%|████████████████████████████████████████████████████████████████████████████████████████████████████████████████████████████████████████████| 200/200 [00:24<00:00,  8.27it/s]\n",
      "loss: 1.46e-01:   0%|▋                                                                                                                                             | 1/200 [00:00<00:26,  7.63it/s]"
     ]
    },
    {
     "name": "stdout",
     "output_type": "stream",
     "text": [
      "fwd mage, n_directions= 1, lr = 0.0008437500000000001, SaveV = -1\n"
     ]
    },
    {
     "name": "stderr",
     "output_type": "stream",
     "text": [
      "loss: 8.88e-16: 100%|████████████████████████████████████████████████████████████████████████████████████████████████████████████████████████████████████████████| 200/200 [00:24<00:00,  8.28it/s]\n"
     ]
    },
    {
     "name": "stdout",
     "output_type": "stream",
     "text": [
      "fwd mage, n_directions= 1, lr = 8.4375e-05, SaveV = -1\n"
     ]
    },
    {
     "data": {
      "image/png": "[encoded data removed]",
      "text/plain": [
       "<Figure size 432x288 with 1 Axes>"
      ]
     },
     "metadata": {
      "needs_background": "light"
     },
     "output_type": "display_data"
    },
    {
     "name": "stdout",
     "output_type": "stream",
     "text": [
      "CPU times: user 1min 21s, sys: 3.91 s, total: 1min 25s\n",
      "Wall time: 1min 13s\n"
     ]
    }
   ],
   "source": [
    "%time run(fwd_mode = False, lr_factors = [1,1/10,1/100])"
   ]
  },
  {
   "cell_type": "code",
   "execution_count": 12,
   "metadata": {},
   "outputs": [
    {
     "name": "stderr",
     "output_type": "stream",
     "text": [
      "loss: 9.33e-02:   0%|                                                                                                                                                      | 0/200 [00:00<?, ?it/s]\n",
      "loss: 1.26e-01:   0%|                                                                                                                                                      | 0/200 [00:00<?, ?it/s]\n",
      "loss: 1.44e-01:   0%|                                                                                                                                                      | 0/200 [00:00<?, ?it/s]\n",
      "loss: 1.19e-01:   0%|                                                                                                                                                      | 0/200 [00:00<?, ?it/s]\n",
      "loss: 1.23e-01:   0%|                                                                                                                                                      | 0/200 [00:00<?, ?it/s]\n",
      "loss: 1.43e-01:   0%|                                                                                                                                                      | 0/200 [00:00<?, ?it/s]\n",
      "loss: 1.56e-01:   0%|                                                                                                                                                      | 0/200 [00:11<?, ?it/s]\n",
      "loss: 1.13e-01:   0%|                                                                                                                                                      | 0/200 [00:10<?, ?it/s]\n",
      "loss: 1.08e-01:   0%|                                                                                                                                                      | 0/200 [00:11<?, ?it/s]\n",
      "No artists with labels found to put in legend.  Note that artists whose label start with an underscore are ignored when legend() is called with no argument.\n"
     ]
    },
    {
     "data": {
      "image/png": "[encoded data removed]",
      "text/plain": [
       "<Figure size 432x288 with 1 Axes>"
      ]
     },
     "metadata": {
      "needs_background": "light"
     },
     "output_type": "display_data"
    },
    {
     "name": "stdout",
     "output_type": "stream",
     "text": [
      "CPU times: user 1min 7s, sys: 2.47 s, total: 1min 9s\n",
      "Wall time: 37.3 s\n"
     ]
    }
   ],
   "source": [
    "%time run(mage = False, fwd_mode = True, n_directions_list = [1,10,100], lr_factors = [1,1/10,1/100])"
   ]
  },
  {
   "cell_type": "code",
   "execution_count": 13,
   "metadata": {},
   "outputs": [
    {
     "ename": "SyntaxError",
     "evalue": "EOL while scanning string literal (<unknown>, line 1)",
     "output_type": "error",
     "traceback": [
      "Traceback \u001b[0;36m(most recent call last)\u001b[0m:\n",
      "  File \u001b[1;32m\"/home/yaniv/miniconda3/lib/python3.8/site-packages/IPython/core/interactiveshell.py\"\u001b[0m, line \u001b[1;32m3457\u001b[0m, in \u001b[1;35mrun_code\u001b[0m\n    exec(code_obj, self.user_global_ns, self.user_ns)\n",
      "  File \u001b[1;32m\"/tmp/ipykernel_31487/518949182.py\"\u001b[0m, line \u001b[1;32m1\u001b[0m, in \u001b[1;35m<module>\u001b[0m\n    get_ipython().run_cell_magic('time', '', '\\nprint(\"mage)\\n\\ntime_t = 0\\ntime_ev = 0\\ntime_sv = 0\\ntime_ls = 0\\nall_results = {}\\nfor k in range(1):    \\n    for j in range(n_tas):\\n        task_params = task_params_all[j]\\n        \\n        task = task_generator(dims, dt, **task_params)\\n        \\n        i = n_gs//2\\n        g = gs[i]\\n        lr = lrs_all[j, i]*2\\n        \\n        if (not same_connectivity) or (i == 0 and j == 0):\\n            # Initial connectivity\\n            # Random component\\n            wrec_0 = np.random.normal(0, 1 / np.sqrt(dim_rec), (dim_rec, dim_rec))\\n            # Input and readout\\n            wio = np.random.normal(0, 1, (dim_rec, dim_in + dim_out))\\n            if orthogonalize_wio:\\n                wio = np.linalg.qr(wio)[0]\\n            else:\\n                wio /= np.linalg.norm(wio, axis=0)[None, :]\\n            # Make sure that the vecotrs are still normalized\\n            assert np.allclose(np.linalg.norm(wio, axis=0), 1), \"Normalization gone wrong!\"\\n            # Change normalization to the proper one\\n            wio *= np.sqrt(dim_rec)\\n            wi_init = wio[:, :dim_in].T.copy()\\n            wo_init = wio[:, dim_in:].copy() / dim_rec\\n            del wio\\n\\n        wrec_init = g * wrec_0\\n\\n        # Network\\n        net = RNN(dims, noise_std, dt, nonlinearity, g=g, wi_init=wi_init, wo_init=wo_init, wrec_init=wrec_init)\\n        \\n        # Train\\n        time0_t = time.time()\\n        res = train(net, task, n_epochs, batch_size, lr, cuda=use_cuda, rec_step=rec_step, optimizer=optimizer, verbose=False, fwd_mode = True, mage = True, n_directions = 1)\\n        losses, grad_norms, weights_init, weights_last, weights_train, _, _ = res\\n        # Weights\\n        all_results[j] = res\\n        plt.semilogy(losses)\\n        plt.show()\\n        \\nprint(\"Done. Learning took %.1f sec, EV/SV evaluation took %.1f / %.1f sec\" % (time_t, time_ev, time_sv))\\nprint(\"Computing loss after shuffle took %.1f sec\" % (time_ls))\\n\\n# Readout\\ntarget_amp = task_params[\"target_amp\"]\\nzs_all = target_amps[None, :, None, None] - np.sqrt(2 * losses_all)\\n')\n",
      "  File \u001b[1;32m\"/home/yaniv/miniconda3/lib/python3.8/site-packages/IPython/core/interactiveshell.py\"\u001b[0m, line \u001b[1;32m2419\u001b[0m, in \u001b[1;35mrun_cell_magic\u001b[0m\n    result = fn(*args, **kwargs)\n",
      "  File \u001b[1;32m\"<decorator-gen-54>\"\u001b[0m, line \u001b[1;32m2\u001b[0m, in \u001b[1;35mtime\u001b[0m\n",
      "  File \u001b[1;32m\"/home/yaniv/miniconda3/lib/python3.8/site-packages/IPython/core/magic.py\"\u001b[0m, line \u001b[1;32m187\u001b[0m, in \u001b[1;35m<lambda>\u001b[0m\n    call = lambda f, *a, **k: f(*a, **k)\n",
      "  File \u001b[1;32m\"/home/yaniv/miniconda3/lib/python3.8/site-packages/IPython/core/magics/execution.py\"\u001b[0m, line \u001b[1;32m1291\u001b[0m, in \u001b[1;35mtime\u001b[0m\n    expr_ast = self.shell.compile.ast_parse(expr)\n",
      "\u001b[0;36m  File \u001b[0;32m\"/home/yaniv/miniconda3/lib/python3.8/site-packages/IPython/core/compilerop.py\"\u001b[0;36m, line \u001b[0;32m101\u001b[0;36m, in \u001b[0;35mast_parse\u001b[0;36m\u001b[0m\n\u001b[0;31m    return compile(source, filename, symbol, self.flags | PyCF_ONLY_AST, 1)\u001b[0m\n",
      "\u001b[0;36m  File \u001b[0;32m\"<unknown>\"\u001b[0;36m, line \u001b[0;32m1\u001b[0m\n\u001b[0;31m    print(\"mage)\u001b[0m\n\u001b[0m                ^\u001b[0m\n\u001b[0;31mSyntaxError\u001b[0m\u001b[0;31m:\u001b[0m EOL while scanning string literal\n"
     ]
    }
   ],
   "source": [
    "%%time\n",
    "\n",
    "print(\"mage)\n",
    "\n",
    "time_t = 0\n",
    "time_ev = 0\n",
    "time_sv = 0\n",
    "time_ls = 0\n",
    "all_results = {}\n",
    "for k in range(1):    \n",
    "    for j in range(n_tas):\n",
    "        task_params = task_params_all[j]\n",
    "        \n",
    "        task = task_generator(dims, dt, **task_params)\n",
    "        \n",
    "        i = n_gs//2\n",
    "        g = gs[i]\n",
    "        lr = lrs_all[j, i]*2\n",
    "        \n",
    "        if (not same_connectivity) or (i == 0 and j == 0):\n",
    "            # Initial connectivity\n",
    "            # Random component\n",
    "            wrec_0 = np.random.normal(0, 1 / np.sqrt(dim_rec), (dim_rec, dim_rec))\n",
    "            # Input and readout\n",
    "            wio = np.random.normal(0, 1, (dim_rec, dim_in + dim_out))\n",
    "            if orthogonalize_wio:\n",
    "                wio = np.linalg.qr(wio)[0]\n",
    "            else:\n",
    "                wio /= np.linalg.norm(wio, axis=0)[None, :]\n",
    "            # Make sure that the vecotrs are still normalized\n",
    "            assert np.allclose(np.linalg.norm(wio, axis=0), 1), \"Normalization gone wrong!\"\n",
    "            # Change normalization to the proper one\n",
    "            wio *= np.sqrt(dim_rec)\n",
    "            wi_init = wio[:, :dim_in].T.copy()\n",
    "            wo_init = wio[:, dim_in:].copy() / dim_rec\n",
    "            del wio\n",
    "\n",
    "        wrec_init = g * wrec_0\n",
    "\n",
    "        # Network\n",
    "        net = RNN(dims, noise_std, dt, nonlinearity, g=g, wi_init=wi_init, wo_init=wo_init, wrec_init=wrec_init)\n",
    "        \n",
    "        # Train\n",
    "        time0_t = time.time()\n",
    "        res = train(net, task, n_epochs, batch_size, lr, cuda=use_cuda, rec_step=rec_step, optimizer=optimizer, verbose=False, fwd_mode = True, mage = True, n_directions = 1)\n",
    "        losses, grad_norms, weights_init, weights_last, weights_train, _, _ = res\n",
    "        # Weights\n",
    "        all_results[j] = res\n",
    "        plt.semilogy(losses)\n",
    "        plt.show()\n",
    "        \n",
    "print(\"Done. Learning took %.1f sec, EV/SV evaluation took %.1f / %.1f sec\" % (time_t, time_ev, time_sv))\n",
    "print(\"Computing loss after shuffle took %.1f sec\" % (time_ls))\n",
    "\n",
    "# Readout\n",
    "target_amp = task_params[\"target_amp\"]\n",
    "zs_all = target_amps[None, :, None, None] - np.sqrt(2 * losses_all)\n"
   ]
  },
  {
   "cell_type": "code",
   "execution_count": null,
   "metadata": {},
   "outputs": [],
   "source": [
    "losses, grad_norms, weights_init, weights_last, weights_train, _, _ = all_results[2]\n",
    "losses"
   ]
  },
  {
   "cell_type": "code",
   "execution_count": null,
   "metadata": {},
   "outputs": [],
   "source": []
  }
 ],
 "metadata": {
  "kernelspec": {
   "display_name": "Python 3 (ipykernel)",
   "language": "python",
   "name": "python3"
  },
  "language_info": {
   "codemirror_mode": {
    "name": "ipython",
    "version": 3
   },
   "file_extension": ".py",
   "mimetype": "text/x-python",
   "name": "python",
   "nbconvert_exporter": "python",
   "pygments_lexer": "ipython3",
   "version": "3.8.5"
  }
 },
 "nbformat": 4,
 "nbformat_minor": 4
}
