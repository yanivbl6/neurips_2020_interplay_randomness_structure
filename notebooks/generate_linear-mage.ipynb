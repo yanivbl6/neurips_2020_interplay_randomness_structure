{
 "cells": [
  {
   "cell_type": "code",
   "execution_count": 1,
   "metadata": {},
   "outputs": [],
   "source": [
    "from imp import reload\n",
    "import os, time\n",
    "import numpy as np\n",
    "import pickle\n",
    "from helpers import comp_evs\n",
    "import matplotlib.pyplot as plt\n",
    "\n",
    "# RNN model and task\n",
    "import torch\n",
    "use_cuda = torch.cuda.is_available()\n",
    "from model import RNN, train, run_net\n",
    "from task_generators import input_driven_fp\n",
    "task_generator = input_driven_fp\n",
    "\n",
    "# Data directory for saving\n",
    "from data_dir import data_dir\n",
    "\n",
    "\n",
    "\n",
    "# Name\n",
    "file_name_prefix = \"linear\" \n",
    "torch.cuda.set_device(\"cuda:3\")"
   ]
  },
  {
   "cell_type": "code",
   "execution_count": 2,
   "metadata": {},
   "outputs": [],
   "source": [
    "# Optimizer\n",
    "optimizer = 'sgd'\n",
    "\n",
    "# Nonlinearity\n",
    "nonlinearity = 'id'\n",
    "##nonlinearity = 'tanh'\n",
    "\n",
    "# Integration time step\n",
    "dt = 0.5\n",
    "# Training parameters\n",
    "batch_size = 1\n",
    "batch_size_test = 1\n",
    "# Neural noise\n",
    "noise_std = 0.0\n",
    "# Whether IO vectors are orthogonalized\n",
    "orthogonalize_wio = False\n",
    "# Same random connectivity for each g?\n",
    "same_connectivity = False\n",
    "\n",
    "# Number of epochs\n",
    "n_epochs = 200\n",
    "# Record the weights only every 'rec_step'\n",
    "rec_step = 1\n",
    "\n",
    "# Network parameters\n",
    "dim_in = 1\n",
    "dim_out = dim_in"
   ]
  },
  {
   "cell_type": "code",
   "execution_count": 3,
   "metadata": {},
   "outputs": [],
   "source": [
    "scenario = ['fig_3_4', 'supp_fig_diverge', 'test'][0]\n",
    "\n",
    "if scenario == 'fig_3_4':\n",
    "    # Fig 3,4\n",
    "    dim_rec = 1024\n",
    "\n",
    "    # Train for different randomness\n",
    "    dg = 0.1\n",
    "    gs = np.arange(0, 1, dg)\n",
    "\n",
    "    # Number of samples\n",
    "    n_samples = 5\n",
    "\n",
    "    # Task\n",
    "    # Target amplitudes\n",
    "    target_amps = np.array([0.5, 1.0, 2.0])\n",
    "    # Trail time\n",
    "    t_max = 101\n",
    "    # Learning rates for g == 0\n",
    "    lr0s = np.array([0.015, 0.009, 0.003])\n",
    "\n",
    "    compute_evs = False\n",
    "\n",
    "elif scenario == 'supp_fig_diverge':\n",
    "    # Diverging learning for supplementary\n",
    "    dim_rec = 256\n",
    "\n",
    "    # Initial connectivity strength\n",
    "    gs = np.array([0.6, 0.8])\n",
    "\n",
    "    # Number of samples\n",
    "    n_samples = 5\n",
    "\n",
    "    # Target amplitudes\n",
    "    # target_amps = np.array([1., 2., 3., 4.])\n",
    "    target_amps = np.array([2., 4.])\n",
    "    # Trail time\n",
    "    t_max = 201\n",
    "    # Learning rates for g == 0\n",
    "    # lr0s = np.array([0.009, 0.003, 0.002, 0.001])\n",
    "    lr0s = np.array([0.002, 0.001])\n",
    "\n",
    "    compute_evs = True\n",
    "    file_name_prefix += \"_diverge\"\n",
    "\n",
    "elif scenario == 'test':\n",
    "    # Quick testing\n",
    "    n_samples = 1\n",
    "    dim_rec = 256\n",
    "    n_epochs = 20\n",
    "    t_max = 21\n",
    "    gs = np.array([0.0, 0.6])\n",
    "    target_amps = np.array([0.5, 2.])\n",
    "    lr0s = np.array([0.01, 0.005])\n",
    "    file_name_prefix = \"test_\" + file_name_prefix\n",
    "    compute_evs = False"
   ]
  },
  {
   "cell_type": "code",
   "execution_count": null,
   "metadata": {},
   "outputs": [],
   "source": []
  },
  {
   "cell_type": "code",
   "execution_count": 4,
   "metadata": {},
   "outputs": [
    {
     "name": "stdout",
     "output_type": "stream",
     "text": [
      "file_name:\n",
      " linear_zhats_gs_N_1024_tmax_101\n",
      "data_file:\n",
      " ../data/linear_zhats_gs_N_1024_tmax_101_fwdmodeV1.pkl\n"
     ]
    }
   ],
   "source": [
    "# Network dimensions\n",
    "dims = [dim_in, dim_rec, dim_out]\n",
    "\n",
    "# All task parameters\n",
    "task_params_all = [{\"t_max\": t_max, \n",
    "                    \"fixation_duration\": 1,\n",
    "                    \"decision_duration\": 1,\n",
    "                    \"input_amp\": 1,\n",
    "                    \"target_amp\": target_amp,}\n",
    "                   for target_amp in target_amps]\n",
    "\n",
    "# Learning rates\n",
    "lrs_all = lr0s[:, None] * (1 - gs[None, :]**2)**2\n",
    "\n",
    "# Epochs\n",
    "n_rec_epochs = n_epochs // rec_step\n",
    "epochs = np.arange(n_epochs)\n",
    "rec_epochs = np.arange(0, n_epochs, rec_step)\n",
    "# Learning times\n",
    "tls_all = lrs_all[:, :, None] * epochs[None, None, :]\n",
    "\n",
    "# Results arrays\n",
    "n_gs = len(gs)\n",
    "n_tas = len(target_amps)\n",
    "# Weights\n",
    "wi_init_all = np.zeros((n_samples, n_tas, n_gs, dim_in, dim_rec))\n",
    "wo_init_all = np.zeros((n_samples, n_tas, n_gs, dim_rec, dim_out))\n",
    "wrec_init_all = np.zeros((n_samples, n_tas, n_gs, dim_rec, dim_rec))\n",
    "dwrec_last_all = np.zeros((n_samples, n_tas, n_gs, dim_rec, dim_rec))\n",
    "# Results\n",
    "losses_all = np.zeros((n_samples, n_tas, n_gs, n_epochs))\n",
    "grad_norms_all = np.zeros((n_samples, n_tas, n_gs, n_epochs))\n",
    "ev_w_all = np.zeros((n_samples, n_tas, n_gs, n_epochs, dim_rec), dtype=complex)\n",
    "sv_dw_all = np.zeros((n_samples, n_tas, n_gs, n_rec_epochs, dim_rec))\n",
    "loss_shuff_all = np.zeros((n_samples, n_tas, n_gs))\n",
    "\n",
    "# File name\n",
    "file_name = file_name_prefix\n",
    "if n_tas == 1:\n",
    "    target_amp = target_amps[0]\n",
    "    file_name += \"_zhat_%.1f\"%target_amp\n",
    "else:\n",
    "    file_name += \"_zhats\"\n",
    "if n_gs == 1:\n",
    "    g = gs[0]\n",
    "    file_name += \"_g_%.1f\" % g\n",
    "else:\n",
    "    file_name += \"_gs\"\n",
    "if optimizer != 'sgd':\n",
    "    file_name += '_' + optimizer\n",
    "if same_connectivity:\n",
    "    file_name += \"_same_conn\"\n",
    "if orthogonalize_wio:\n",
    "    file_name += \"_ortho_wio\"\n",
    "if noise_std != 0:\n",
    "    file_name += \"_noise_%.1f\"%noise_std\n",
    "# Network parameters\n",
    "file_name += \"_N_%d\" % dim_rec\n",
    "file_name += \"_tmax_%d\" % t_max\n",
    "file_name = \"\".join(file_name.split('.'))\n",
    "print(\"file_name:\\n\", file_name)\n",
    "\n",
    "# Data file for saving\n",
    "file_name  = file_name + \"_fwdmodeV1\"\n",
    "data_file_name = file_name + \".pkl\"\n",
    "data_file = os.path.join(data_dir, data_file_name)\n",
    "print(\"data_file:\\n\", data_file)\n"
   ]
  },
  {
   "cell_type": "raw",
   "metadata": {},
   "source": [
    "%%time\n",
    "\n",
    "time_t = 0\n",
    "time_ev = 0\n",
    "time_sv = 0\n",
    "time_ls = 0\n",
    "all_results = {}\n",
    "for k in range(1):    \n",
    "    for j in range(n_tas):\n",
    "        task_params = task_params_all[j]\n",
    "        task = task_generator(dims, dt, **task_params)\n",
    "        i = n_gs//2\n",
    "        g = gs[i]\n",
    "        lr = lrs_all[j, i]/100\n",
    "\n",
    "        if (not same_connectivity) or (i == 0 and j == 0):\n",
    "            # Initial connectivity\n",
    "            # Random component\n",
    "            wrec_0 = np.random.normal(0, 1 / np.sqrt(dim_rec), (dim_rec, dim_rec))\n",
    "            # Input and readout\n",
    "            wio = np.random.normal(0, 1, (dim_rec, dim_in + dim_out))\n",
    "            if orthogonalize_wio:\n",
    "                wio = np.linalg.qr(wio)[0]\n",
    "            else:\n",
    "                wio /= np.linalg.norm(wio, axis=0)[None, :]\n",
    "            # Make sure that the vecotrs are still normalized\n",
    "            assert np.allclose(np.linalg.norm(wio, axis=0), 1), \"Normalization gone wrong!\"\n",
    "            # Change normalization to the proper one\n",
    "            wio *= np.sqrt(dim_rec)\n",
    "            wi_init = wio[:, :dim_in].T.copy()\n",
    "            wo_init = wio[:, dim_in:].copy() / dim_rec\n",
    "            del wio\n",
    "\n",
    "        wrec_init = g * wrec_0\n",
    "\n",
    "        # Network\n",
    "        net = RNN(dims, noise_std, dt, nonlinearity, g=g, wi_init=wi_init, wo_init=wo_init, wrec_init=wrec_init)\n",
    "        \n",
    "        # Train\n",
    "        time0_t = time.time()\n",
    "        res = train(net, task, n_epochs, batch_size, lr, cuda=use_cuda, rec_step=rec_step, optimizer=optimizer, verbose=False, fwd_mode = True, n_directions = 1)\n",
    "        losses, grad_norms, weights_init, weights_last, weights_train, _, _ = res\n",
    "        # Weights\n",
    "        all_results[j] = res\n",
    "        plt.semilogy(losses)\n",
    "        plt.show()\n",
    "        \n",
    "print(\"Done. Learning took %.1f sec, EV/SV evaluation took %.1f / %.1f sec\" % (time_t, time_ev, time_sv))\n",
    "print(\"Computing loss after shuffle took %.1f sec\" % (time_ls))\n",
    "\n",
    "# Readout\n",
    "target_amp = task_params[\"target_amp\"]\n",
    "zs_all = target_amps[None, :, None, None] - np.sqrt(2 * losses_all)\n"
   ]
  },
  {
   "cell_type": "code",
   "execution_count": 5,
   "metadata": {},
   "outputs": [],
   "source": [
    "def run(mage= True, fwd_mode = True, n_directions_list = 1, lr_factors = 1, task = 0):\n",
    "    time_t = 0\n",
    "    time_ev = 0\n",
    "    time_sv = 0\n",
    "    time_ls = 0\n",
    "    all_results = {}\n",
    "    j = task\n",
    "    task_params = task_params_all[j]\n",
    "    task = task_generator(dims, dt, **task_params)\n",
    "    i = n_gs//2\n",
    "    g = gs[i]\n",
    "    \n",
    "    \n",
    "    if not isinstance(lr_factors, list):\n",
    "        lr_factors = [lr_factors]\n",
    "        \n",
    "    \n",
    "    if not isinstance(n_directions_list, list):\n",
    "        n_directions_list = [n_directions_list]\n",
    "        \n",
    "    for n_directions in n_directions_list:\n",
    "        for lr_factor in lr_factors:\n",
    "            try:\n",
    "                lr = lrs_all[j, i]*lr_factor\n",
    "                if (not same_connectivity) or (i == 0 and j == 0):\n",
    "                    # Initial connectivity\n",
    "                    # Random component\n",
    "                    wrec_0 = np.random.normal(0, 1 / np.sqrt(dim_rec), (dim_rec, dim_rec))\n",
    "                    # Input and readout\n",
    "                    wio = np.random.normal(0, 1, (dim_rec, dim_in + dim_out))\n",
    "                    if orthogonalize_wio:\n",
    "                        wio = np.linalg.qr(wio)[0]\n",
    "                    else:\n",
    "                        wio /= np.linalg.norm(wio, axis=0)[None, :]\n",
    "                    # Make sure that the vecotrs are still normalized\n",
    "                    assert np.allclose(np.linalg.norm(wio, axis=0), 1), \"Normalization gone wrong!\"\n",
    "                    # Change normalization to the proper one\n",
    "                    wio *= np.sqrt(dim_rec)\n",
    "                    wi_init = wio[:, :dim_in].T.copy()\n",
    "                    wo_init = wio[:, dim_in:].copy() / dim_rec\n",
    "                    del wio\n",
    "\n",
    "                wrec_init = g * wrec_0\n",
    "\n",
    "                # Network\n",
    "                net = RNN(dims, noise_std, dt, nonlinearity, g=g, wi_init=wi_init, wo_init=wo_init, wrec_init=wrec_init)\n",
    "\n",
    "                # Train\n",
    "                time0_t = time.time()\n",
    "                res = train(net, task, n_epochs, batch_size, lr, cuda=use_cuda, rec_step=rec_step, optimizer=optimizer, verbose=False, fwd_mode = fwd_mode, mage = mage, n_directions = n_directions)\n",
    "                losses, grad_norms, weights_init, weights_last, weights_train, _, _ = res\n",
    "                # Weights\n",
    "                all_results[j] = res\n",
    "                plt.semilogy(losses, label = f\"lr = {lr_factor}, directions = {n_directions}\")\n",
    "\n",
    "                if mage:\n",
    "                    print(f\"fwd mage, n_directions= {n_directions}, lr = {lr}\")\n",
    "                elif fwd_mode:\n",
    "                    print(f\"fwd mode, n_directions= {n_directions}, lr = {lr}\")\n",
    "                else:\n",
    "                    print(f\"backprop, lr = {lr}\")\n",
    "            except:\n",
    "                pass\n",
    "    plt.legend()\n",
    "    plt.show()\n"
   ]
  },
  {
   "cell_type": "code",
   "execution_count": 8,
   "metadata": {},
   "outputs": [
    {
     "name": "stderr",
     "output_type": "stream",
     "text": [
      "loss: 5.78e-02: 100%|████████████████████████████████████████████████████████████████████████████████████████████████████████████████████████████████████████████████████████| 200/200 [00:28<00:00,  7.11it/s]\n",
      "  0%|                                                                                                                                                                                  | 0/200 [00:00<?, ?it/s]"
     ]
    },
    {
     "name": "stdout",
     "output_type": "stream",
     "text": [
      "fwd mage, n_directions= 1, lr = 0.0084375\n"
     ]
    },
    {
     "name": "stderr",
     "output_type": "stream",
     "text": [
      "loss: 8.21e-02: 100%|████████████████████████████████████████████████████████████████████████████████████████████████████████████████████████████████████████████████████████| 200/200 [00:27<00:00,  7.19it/s]\n",
      "  0%|                                                                                                                                                                                  | 0/200 [00:00<?, ?it/s]"
     ]
    },
    {
     "name": "stdout",
     "output_type": "stream",
     "text": [
      "fwd mage, n_directions= 1, lr = 0.016875\n"
     ]
    },
    {
     "name": "stderr",
     "output_type": "stream",
     "text": [
      "loss: 5.55e-02: 100%|████████████████████████████████████████████████████████████████████████████████████████████████████████████████████████████████████████████████████████| 200/200 [00:27<00:00,  7.19it/s]\n",
      "  0%|                                                                                                                                                                                  | 0/200 [00:00<?, ?it/s]"
     ]
    },
    {
     "name": "stdout",
     "output_type": "stream",
     "text": [
      "fwd mage, n_directions= 1, lr = 0.0253125\n"
     ]
    },
    {
     "name": "stderr",
     "output_type": "stream",
     "text": [
      "loss: 2.22e-16: 100%|████████████████████████████████████████████████████████████████████████████████████████████████████████████████████████████████████████████████████████| 200/200 [00:28<00:00,  7.07it/s]\n",
      "  0%|                                                                                                                                                                                  | 0/200 [00:00<?, ?it/s]"
     ]
    },
    {
     "name": "stdout",
     "output_type": "stream",
     "text": [
      "fwd mage, n_directions= 1, lr = 0.0421875\n"
     ]
    },
    {
     "name": "stderr",
     "output_type": "stream",
     "text": [
      "loss: 4.44e-15: 100%|████████████████████████████████████████████████████████████████████████████████████████████████████████████████████████████████████████████████████████| 200/200 [00:27<00:00,  7.18it/s]\n",
      "  0%|                                                                                                                                                                                  | 0/200 [00:00<?, ?it/s]"
     ]
    },
    {
     "name": "stdout",
     "output_type": "stream",
     "text": [
      "fwd mage, n_directions= 1, lr = 0.059062500000000004\n"
     ]
    },
    {
     "name": "stderr",
     "output_type": "stream",
     "text": [
      "loss: 6.50e+27:   7%|██████████▋                                                                                                                                              | 14/200 [00:02<00:29,  6.32it/s]\n",
      "loss: 2.14e-02: 100%|████████████████████████████████████████████████████████████████████████████████████████████████████████████████████████████████████████████████████████| 200/200 [01:07<00:00,  2.98it/s]\n",
      "  0%|                                                                                                                                                                                  | 0/200 [00:00<?, ?it/s]"
     ]
    },
    {
     "name": "stdout",
     "output_type": "stream",
     "text": [
      "fwd mage, n_directions= 3, lr = 0.0084375\n"
     ]
    },
    {
     "name": "stderr",
     "output_type": "stream",
     "text": [
      "loss: 1.51e-06: 100%|████████████████████████████████████████████████████████████████████████████████████████████████████████████████████████████████████████████████████████| 200/200 [01:07<00:00,  2.97it/s]\n",
      "  0%|                                                                                                                                                                                  | 0/200 [00:00<?, ?it/s]"
     ]
    },
    {
     "name": "stdout",
     "output_type": "stream",
     "text": [
      "fwd mage, n_directions= 3, lr = 0.016875\n"
     ]
    },
    {
     "name": "stderr",
     "output_type": "stream",
     "text": [
      "loss: 6.93e-02: 100%|████████████████████████████████████████████████████████████████████████████████████████████████████████████████████████████████████████████████████████| 200/200 [01:07<00:00,  2.97it/s]\n",
      "  0%|                                                                                                                                                                                  | 0/200 [00:00<?, ?it/s]"
     ]
    },
    {
     "name": "stdout",
     "output_type": "stream",
     "text": [
      "fwd mage, n_directions= 3, lr = 0.0253125\n"
     ]
    },
    {
     "name": "stderr",
     "output_type": "stream",
     "text": [
      "loss: 8.16e-04: 100%|████████████████████████████████████████████████████████████████████████████████████████████████████████████████████████████████████████████████████████| 200/200 [01:07<00:00,  2.97it/s]\n",
      "  0%|                                                                                                                                                                                  | 0/200 [00:00<?, ?it/s]"
     ]
    },
    {
     "name": "stdout",
     "output_type": "stream",
     "text": [
      "fwd mage, n_directions= 3, lr = 0.0421875\n"
     ]
    },
    {
     "name": "stderr",
     "output_type": "stream",
     "text": [
      "loss: 8.75e-14: 100%|████████████████████████████████████████████████████████████████████████████████████████████████████████████████████████████████████████████████████████| 200/200 [01:07<00:00,  2.95it/s]\n",
      "  0%|                                                                                                                                                                                  | 0/200 [00:00<?, ?it/s]"
     ]
    },
    {
     "name": "stdout",
     "output_type": "stream",
     "text": [
      "fwd mage, n_directions= 3, lr = 0.059062500000000004\n"
     ]
    },
    {
     "name": "stderr",
     "output_type": "stream",
     "text": [
      "loss: 7.51e-14: 100%|████████████████████████████████████████████████████████████████████████████████████████████████████████████████████████████████████████████████████████| 200/200 [01:07<00:00,  2.97it/s]\n"
     ]
    },
    {
     "name": "stdout",
     "output_type": "stream",
     "text": [
      "fwd mage, n_directions= 3, lr = 0.084375\n"
     ]
    },
    {
     "data": {
      "image/png": "[encoded data removed]",
      "text/plain": [
       "<Figure size 432x288 with 1 Axes>"
      ]
     },
     "metadata": {
      "needs_background": "light"
     },
     "output_type": "display_data"
    },
    {
     "name": "stdout",
     "output_type": "stream",
     "text": [
      "CPU times: user 9min 31s, sys: 35.5 s, total: 10min 7s\n",
      "Wall time: 9min 7s\n"
     ]
    }
   ],
   "source": [
    "%time run(mage = True, fwd_mode = True, n_directions_list = [1,3], lr_factors = [1,2,3,5,7,10])"
   ]
  },
  {
   "cell_type": "code",
   "execution_count": 22,
   "metadata": {},
   "outputs": [
    {
     "name": "stderr",
     "output_type": "stream",
     "text": [
      "loss: 2.35e-03: 100%|████████████████████████████████████████████████████████████████████████████████████████████████████████████████████████████████████████████████████████| 200/200 [00:18<00:00, 10.89it/s]\n",
      "loss: 1.44e-01:   0%|                                                                                                                                                                  | 0/200 [00:00<?, ?it/s]"
     ]
    },
    {
     "name": "stdout",
     "output_type": "stream",
     "text": [
      "fwd mage, n_directions= 1, lr = 0.00421875\n"
     ]
    },
    {
     "name": "stderr",
     "output_type": "stream",
     "text": [
      "loss: 5.98e-07: 100%|████████████████████████████████████████████████████████████████████████████████████████████████████████████████████████████████████████████████████████| 200/200 [00:17<00:00, 11.56it/s]\n",
      "loss: 1.39e-01:   0%|▊                                                                                                                                                         | 1/200 [00:00<00:20,  9.61it/s]"
     ]
    },
    {
     "name": "stdout",
     "output_type": "stream",
     "text": [
      "fwd mage, n_directions= 1, lr = 0.0084375\n"
     ]
    },
    {
     "name": "stderr",
     "output_type": "stream",
     "text": [
      "loss: 6.75e-13: 100%|████████████████████████████████████████████████████████████████████████████████████████████████████████████████████████████████████████████████████████| 200/200 [00:17<00:00, 11.64it/s]\n"
     ]
    },
    {
     "name": "stdout",
     "output_type": "stream",
     "text": [
      "fwd mage, n_directions= 1, lr = 0.016875\n"
     ]
    },
    {
     "data": {
      "image/png": "[encoded data removed]",
      "text/plain": [
       "<Figure size 432x288 with 1 Axes>"
      ]
     },
     "metadata": {
      "needs_background": "light"
     },
     "output_type": "display_data"
    },
    {
     "name": "stdout",
     "output_type": "stream",
     "text": [
      "CPU times: user 1min 1s, sys: 3.39 s, total: 1min 4s\n",
      "Wall time: 53.4 s\n"
     ]
    }
   ],
   "source": [
    "%time run(fwd_mode = False, lr_factors = [0.5,1,2])"
   ]
  },
  {
   "cell_type": "code",
   "execution_count": 6,
   "metadata": {},
   "outputs": [
    {
     "name": "stderr",
     "output_type": "stream",
     "text": [
      "loss: 1.31e-01:   0%|▊                                                                                                                                                         | 1/200 [00:00<01:48,  1.83it/s]\n",
      "loss: 2.31e+01:   2%|███▊                                                                                                                                                      | 5/200 [00:00<00:31,  6.10it/s]\n",
      "loss: 1.11e-15: 100%|████████████████████████████████████████████████████████████████████████████████████████████████████████████████████████████████████████████████████████| 200/200 [00:26<00:00,  7.66it/s]\n",
      "  0%|                                                                                                                                                                                  | 0/200 [00:00<?, ?it/s]"
     ]
    },
    {
     "name": "stdout",
     "output_type": "stream",
     "text": [
      "fwd mode, n_directions= 1, lr = 8.4375e-05\n"
     ]
    },
    {
     "name": "stderr",
     "output_type": "stream",
     "text": [
      "loss: 1.41e-01:   0%|▊                                                                                                                                                         | 1/200 [00:01<03:30,  1.06s/it]\n",
      "loss: 0.00e+00: 100%|████████████████████████████████████████████████████████████████████████████████████████████████████████████████████████████████████████████████████████| 200/200 [02:59<00:00,  1.11it/s]\n",
      "  0%|                                                                                                                                                                                  | 0/200 [00:00<?, ?it/s]"
     ]
    },
    {
     "name": "stdout",
     "output_type": "stream",
     "text": [
      "fwd mode, n_directions= 10, lr = 0.0008437500000000001\n"
     ]
    },
    {
     "name": "stderr",
     "output_type": "stream",
     "text": [
      "loss: 8.88e-16: 100%|████████████████████████████████████████████████████████████████████████████████████████████████████████████████████████████████████████████████████████| 200/200 [03:00<00:00,  1.11it/s]\n",
      "  0%|                                                                                                                                                                                  | 0/200 [00:00<?, ?it/s]"
     ]
    },
    {
     "name": "stdout",
     "output_type": "stream",
     "text": [
      "fwd mode, n_directions= 10, lr = 8.4375e-05\n"
     ]
    },
    {
     "name": "stderr",
     "output_type": "stream",
     "text": [
      "loss: 1.70e+01:   1%|█▌                                                                                                                                                        | 2/200 [00:17<28:38,  8.68s/it]\n",
      "loss: 0.00e+00: 100%|████████████████████████████████████████████████████████████████████████████████████████████████████████████████████████████████████████████████████████| 200/200 [28:33<00:00,  8.57s/it]\n",
      "  0%|                                                                                                                                                                                  | 0/200 [00:00<?, ?it/s]"
     ]
    },
    {
     "name": "stdout",
     "output_type": "stream",
     "text": [
      "fwd mode, n_directions= 100, lr = 0.0008437500000000001\n"
     ]
    },
    {
     "name": "stderr",
     "output_type": "stream",
     "text": [
      "loss: 4.44e-16: 100%|████████████████████████████████████████████████████████████████████████████████████████████████████████████████████████████████████████████████████████| 200/200 [28:25<00:00,  8.53s/it]\n"
     ]
    },
    {
     "name": "stdout",
     "output_type": "stream",
     "text": [
      "fwd mode, n_directions= 100, lr = 8.4375e-05\n"
     ]
    },
    {
     "data": {
      "image/png": "[encoded data removed]",
      "text/plain": [
       "<Figure size 432x288 with 1 Axes>"
      ]
     },
     "metadata": {
      "needs_background": "light"
     },
     "output_type": "display_data"
    },
    {
     "name": "stdout",
     "output_type": "stream",
     "text": [
      "CPU times: user 1h 2min 10s, sys: 4min 5s, total: 1h 6min 15s\n",
      "Wall time: 1h 3min 49s\n"
     ]
    }
   ],
   "source": [
    "%time run(mage = False, fwd_mode = True, n_directions_list = [1,10,100], lr_factors = [1,1/10,1/100])"
   ]
  },
  {
   "cell_type": "code",
   "execution_count": 6,
   "metadata": {},
   "outputs": [
    {
     "name": "stderr",
     "output_type": "stream",
     "text": [
      "loss: 0.00e+00:   8%|████████████▏                                                                                                                                            | 16/200 [00:15<02:57,  1.04it/s]\n"
     ]
    },
    {
     "ename": "KeyboardInterrupt",
     "evalue": "",
     "output_type": "error",
     "traceback": [
      "\u001b[0;31m---------------------------------------------------------------------------\u001b[0m",
      "\u001b[0;31mKeyboardInterrupt\u001b[0m                         Traceback (most recent call last)",
      "\u001b[0;32m<timed exec>\u001b[0m in \u001b[0;36m<module>\u001b[0;34m\u001b[0m\n",
      "\u001b[0;32m~/interplay_randomness_structure/notebooks/model.py\u001b[0m in \u001b[0;36mtrain\u001b[0;34m(net, task, n_epochs, batch_size, learning_rate, clip_gradient, cuda, rec_step, optimizer, h_init, verbose, fwd_mode, mage, n_directions)\u001b[0m\n\u001b[1;32m    685\u001b[0m                 \u001b[0moutput\u001b[0m \u001b[0;34m=\u001b[0m \u001b[0mnet\u001b[0m\u001b[0;34m.\u001b[0m\u001b[0mfwd_mode\u001b[0m\u001b[0;34m(\u001b[0m\u001b[0mx\u001b[0m \u001b[0;34m=\u001b[0m \u001b[0minput\u001b[0m\u001b[0;34m,\u001b[0m \u001b[0mloss_fn\u001b[0m\u001b[0;34m=\u001b[0m \u001b[0;32mlambda\u001b[0m \u001b[0mx\u001b[0m\u001b[0;34m:\u001b[0m \u001b[0mloss_mse\u001b[0m\u001b[0;34m(\u001b[0m\u001b[0mx\u001b[0m\u001b[0;34m,\u001b[0m \u001b[0mtarget\u001b[0m\u001b[0;34m,\u001b[0m \u001b[0mmask\u001b[0m\u001b[0;34m)\u001b[0m\u001b[0;34m/\u001b[0m\u001b[0mn_directions\u001b[0m\u001b[0;34m,\u001b[0m \u001b[0mmage\u001b[0m \u001b[0;34m=\u001b[0m \u001b[0mmage\u001b[0m\u001b[0;34m,\u001b[0m \u001b[0mh_init\u001b[0m\u001b[0;34m=\u001b[0m\u001b[0mh_init\u001b[0m\u001b[0;34m)\u001b[0m\u001b[0;34m\u001b[0m\u001b[0;34m\u001b[0m\u001b[0m\n\u001b[1;32m    686\u001b[0m         \u001b[0;32melse\u001b[0m\u001b[0;34m:\u001b[0m\u001b[0;34m\u001b[0m\u001b[0;34m\u001b[0m\u001b[0m\n\u001b[0;32m--> 687\u001b[0;31m             \u001b[0mloss\u001b[0m\u001b[0;34m.\u001b[0m\u001b[0mbackward\u001b[0m\u001b[0;34m(\u001b[0m\u001b[0;34m)\u001b[0m\u001b[0;34m\u001b[0m\u001b[0;34m\u001b[0m\u001b[0m\n\u001b[0m\u001b[1;32m    688\u001b[0m \u001b[0;34m\u001b[0m\u001b[0m\n\u001b[1;32m    689\u001b[0m         \u001b[0mpbar\u001b[0m\u001b[0;34m.\u001b[0m\u001b[0mset_description\u001b[0m\u001b[0;34m(\u001b[0m\u001b[0;34m\"loss: %.2e\"\u001b[0m \u001b[0;34m%\u001b[0m \u001b[0mloss\u001b[0m\u001b[0;34m)\u001b[0m\u001b[0;34m\u001b[0m\u001b[0;34m\u001b[0m\u001b[0m\n",
      "\u001b[0;32m~/interplay_randomness_structure/notebooks/model.py\u001b[0m in \u001b[0;36mfwd_mode\u001b[0;34m(self, x, loss_fn, mage, h_init)\u001b[0m\n\u001b[1;32m    350\u001b[0m                 \u001b[0mh_var\u001b[0m \u001b[0;34m=\u001b[0m\u001b[0mtorch\u001b[0m\u001b[0;34m.\u001b[0m\u001b[0mautograd\u001b[0m\u001b[0;34m.\u001b[0m\u001b[0mVariable\u001b[0m\u001b[0;34m(\u001b[0m\u001b[0mh\u001b[0m\u001b[0;34m.\u001b[0m\u001b[0mdetach\u001b[0m\u001b[0;34m(\u001b[0m\u001b[0;34m)\u001b[0m\u001b[0;34m,\u001b[0m \u001b[0mrequires_grad\u001b[0m \u001b[0;34m=\u001b[0m \u001b[0;32mTrue\u001b[0m\u001b[0;34m)\u001b[0m\u001b[0;34m\u001b[0m\u001b[0;34m\u001b[0m\u001b[0m\n\u001b[1;32m    351\u001b[0m                 \u001b[0mact_h\u001b[0m \u001b[0;34m=\u001b[0m \u001b[0mself\u001b[0m\u001b[0;34m.\u001b[0m\u001b[0mreadout_nonlinearity\u001b[0m\u001b[0;34m(\u001b[0m\u001b[0mh_var\u001b[0m\u001b[0;34m)\u001b[0m\u001b[0;34m\u001b[0m\u001b[0;34m\u001b[0m\u001b[0m\n\u001b[0;32m--> 352\u001b[0;31m                 \u001b[0mact_h_grad\u001b[0m \u001b[0;34m=\u001b[0m \u001b[0mtorch\u001b[0m\u001b[0;34m.\u001b[0m\u001b[0mautograd\u001b[0m\u001b[0;34m.\u001b[0m\u001b[0mgrad\u001b[0m\u001b[0;34m(\u001b[0m\u001b[0mact_h\u001b[0m\u001b[0;34m,\u001b[0m \u001b[0mh_var\u001b[0m\u001b[0;34m,\u001b[0m \u001b[0mh_grad\u001b[0m\u001b[0;34m)\u001b[0m\u001b[0;34m[\u001b[0m\u001b[0;36m0\u001b[0m\u001b[0;34m]\u001b[0m\u001b[0;34m\u001b[0m\u001b[0;34m\u001b[0m\u001b[0m\n\u001b[0m\u001b[1;32m    353\u001b[0m \u001b[0;34m\u001b[0m\u001b[0m\n\u001b[1;32m    354\u001b[0m                 \u001b[0;32mwith\u001b[0m \u001b[0mtorch\u001b[0m\u001b[0;34m.\u001b[0m\u001b[0mno_grad\u001b[0m\u001b[0;34m(\u001b[0m\u001b[0;34m)\u001b[0m\u001b[0;34m:\u001b[0m\u001b[0;34m\u001b[0m\u001b[0;34m\u001b[0m\u001b[0m\n",
      "\u001b[0;32m~/miniconda3/lib/python3.8/site-packages/torch/autograd/__init__.py\u001b[0m in \u001b[0;36mgrad\u001b[0;34m(outputs, inputs, grad_outputs, retain_graph, create_graph, only_inputs, allow_unused)\u001b[0m\n\u001b[1;32m    232\u001b[0m         \u001b[0mretain_graph\u001b[0m \u001b[0;34m=\u001b[0m \u001b[0mcreate_graph\u001b[0m\u001b[0;34m\u001b[0m\u001b[0;34m\u001b[0m\u001b[0m\n\u001b[1;32m    233\u001b[0m \u001b[0;34m\u001b[0m\u001b[0m\n\u001b[0;32m--> 234\u001b[0;31m     return Variable._execution_engine.run_backward(\n\u001b[0m\u001b[1;32m    235\u001b[0m         \u001b[0moutputs\u001b[0m\u001b[0;34m,\u001b[0m \u001b[0mgrad_outputs_\u001b[0m\u001b[0;34m,\u001b[0m \u001b[0mretain_graph\u001b[0m\u001b[0;34m,\u001b[0m \u001b[0mcreate_graph\u001b[0m\u001b[0;34m,\u001b[0m\u001b[0;34m\u001b[0m\u001b[0;34m\u001b[0m\u001b[0m\n\u001b[1;32m    236\u001b[0m         inputs, allow_unused, accumulate_grad=False)\n",
      "\u001b[0;31mKeyboardInterrupt\u001b[0m: "
     ]
    }
   ],
   "source": [
    "%%time\n",
    "\n",
    "print(\"mage)\n",
    "\n",
    "time_t = 0\n",
    "time_ev = 0\n",
    "time_sv = 0\n",
    "time_ls = 0\n",
    "all_results = {}\n",
    "for k in range(1):    \n",
    "    for j in range(n_tas):\n",
    "        task_params = task_params_all[j]\n",
    "        \n",
    "        task = task_generator(dims, dt, **task_params)\n",
    "        \n",
    "        i = n_gs//2\n",
    "        g = gs[i]\n",
    "        lr = lrs_all[j, i]*2\n",
    "        \n",
    "        if (not same_connectivity) or (i == 0 and j == 0):\n",
    "            # Initial connectivity\n",
    "            # Random component\n",
    "            wrec_0 = np.random.normal(0, 1 / np.sqrt(dim_rec), (dim_rec, dim_rec))\n",
    "            # Input and readout\n",
    "            wio = np.random.normal(0, 1, (dim_rec, dim_in + dim_out))\n",
    "            if orthogonalize_wio:\n",
    "                wio = np.linalg.qr(wio)[0]\n",
    "            else:\n",
    "                wio /= np.linalg.norm(wio, axis=0)[None, :]\n",
    "            # Make sure that the vecotrs are still normalized\n",
    "            assert np.allclose(np.linalg.norm(wio, axis=0), 1), \"Normalization gone wrong!\"\n",
    "            # Change normalization to the proper one\n",
    "            wio *= np.sqrt(dim_rec)\n",
    "            wi_init = wio[:, :dim_in].T.copy()\n",
    "            wo_init = wio[:, dim_in:].copy() / dim_rec\n",
    "            del wio\n",
    "\n",
    "        wrec_init = g * wrec_0\n",
    "\n",
    "        # Network\n",
    "        net = RNN(dims, noise_std, dt, nonlinearity, g=g, wi_init=wi_init, wo_init=wo_init, wrec_init=wrec_init)\n",
    "        \n",
    "        # Train\n",
    "        time0_t = time.time()\n",
    "        res = train(net, task, n_epochs, batch_size, lr, cuda=use_cuda, rec_step=rec_step, optimizer=optimizer, verbose=False, fwd_mode = True, mage = True, n_directions = 1)\n",
    "        losses, grad_norms, weights_init, weights_last, weights_train, _, _ = res\n",
    "        # Weights\n",
    "        all_results[j] = res\n",
    "        plt.semilogy(losses)\n",
    "        plt.show()\n",
    "        \n",
    "print(\"Done. Learning took %.1f sec, EV/SV evaluation took %.1f / %.1f sec\" % (time_t, time_ev, time_sv))\n",
    "print(\"Computing loss after shuffle took %.1f sec\" % (time_ls))\n",
    "\n",
    "# Readout\n",
    "target_amp = task_params[\"target_amp\"]\n",
    "zs_all = target_amps[None, :, None, None] - np.sqrt(2 * losses_all)\n"
   ]
  },
  {
   "cell_type": "code",
   "execution_count": 7,
   "metadata": {},
   "outputs": [
    {
     "ename": "KeyError",
     "evalue": "2",
     "output_type": "error",
     "traceback": [
      "\u001b[0;31m---------------------------------------------------------------------------\u001b[0m",
      "\u001b[0;31mKeyError\u001b[0m                                  Traceback (most recent call last)",
      "\u001b[0;32m/tmp/ipykernel_39467/2367782919.py\u001b[0m in \u001b[0;36m<module>\u001b[0;34m\u001b[0m\n\u001b[0;32m----> 1\u001b[0;31m \u001b[0mlosses\u001b[0m\u001b[0;34m,\u001b[0m \u001b[0mgrad_norms\u001b[0m\u001b[0;34m,\u001b[0m \u001b[0mweights_init\u001b[0m\u001b[0;34m,\u001b[0m \u001b[0mweights_last\u001b[0m\u001b[0;34m,\u001b[0m \u001b[0mweights_train\u001b[0m\u001b[0;34m,\u001b[0m \u001b[0m_\u001b[0m\u001b[0;34m,\u001b[0m \u001b[0m_\u001b[0m \u001b[0;34m=\u001b[0m \u001b[0mall_results\u001b[0m\u001b[0;34m[\u001b[0m\u001b[0;36m2\u001b[0m\u001b[0;34m]\u001b[0m\u001b[0;34m\u001b[0m\u001b[0;34m\u001b[0m\u001b[0m\n\u001b[0m\u001b[1;32m      2\u001b[0m \u001b[0mlosses\u001b[0m\u001b[0;34m\u001b[0m\u001b[0;34m\u001b[0m\u001b[0m\n",
      "\u001b[0;31mKeyError\u001b[0m: 2"
     ]
    }
   ],
   "source": [
    "losses, grad_norms, weights_init, weights_last, weights_train, _, _ = all_results[2]\n",
    "losses"
   ]
  },
  {
   "cell_type": "code",
   "execution_count": null,
   "metadata": {},
   "outputs": [],
   "source": []
  }
 ],
 "metadata": {
  "kernelspec": {
   "display_name": "Python 3 (ipykernel)",
   "language": "python",
   "name": "python3"
  },
  "language_info": {
   "codemirror_mode": {
    "name": "ipython",
    "version": 3
   },
   "file_extension": ".py",
   "mimetype": "text/x-python",
   "name": "python",
   "nbconvert_exporter": "python",
   "pygments_lexer": "ipython3",
   "version": "3.8.5"
  }
 },
 "nbformat": 4,
 "nbformat_minor": 4
}
